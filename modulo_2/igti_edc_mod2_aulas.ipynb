{
  "nbformat": 4,
  "nbformat_minor": 0,
  "metadata": {
    "colab": {
      "provenance": [],
      "collapsed_sections": [
        "Dd6t0uFzuR4X",
        "bfykG2vp3KVv"
      ],
      "authorship_tag": "ABX9TyNfUIfnJHPsL5a8sSSKyLgS",
      "include_colab_link": true
    },
    "kernelspec": {
      "name": "python3",
      "display_name": "Python 3"
    },
    "language_info": {
      "name": "python"
    }
  },
  "cells": [
    {
      "cell_type": "markdown",
      "metadata": {
        "id": "view-in-github",
        "colab_type": "text"
      },
      "source": [
        "<a href=\"https://colab.research.google.com/github/eder1985/igti-bootcamp-eng-dados-cloud/blob/main/modulo_2/igti_edc_mod2_aulas.ipynb\" target=\"_parent\"><img src=\"https://colab.research.google.com/assets/colab-badge.svg\" alt=\"Open In Colab\"/></a>"
      ]
    },
    {
      "cell_type": "markdown",
      "metadata": {
        "id": "iox_ufgbqDXa"
      },
      "source": [
        "<h1><center>IGTI/XP Educação/Bootcamp Engenharia de Dados Cloud - Módulo 2 - Aulas\n",
        "</center></h1>"
      ]
    },
    {
      "cell_type": "markdown",
      "metadata": {
        "id": "Dd6t0uFzuR4X"
      },
      "source": [
        "### Installing Spark"
      ]
    },
    {
      "cell_type": "markdown",
      "metadata": {
        "id": "6apGVff5h4ca"
      },
      "source": [
        "Install Dependencies:\n",
        "\n",
        "\n",
        "1.   Java 8\n",
        "2.   Apache Spark with hadoop and\n",
        "3.   Findspark (used to locate the spark in the system)\n"
      ]
    },
    {
      "cell_type": "code",
      "metadata": {
        "id": "tt7ZS1_wGgjn"
      },
      "source": [
        "!apt-get install openjdk-8-jdk-headless -qq > /dev/null\n",
        "!wget -q http://archive.apache.org/dist/spark/spark-3.1.1/spark-3.1.1-bin-hadoop3.2.tgz\n",
        "!tar xf spark-3.1.1-bin-hadoop3.2.tgz\n",
        "!pip install -q findspark"
      ],
      "execution_count": null,
      "outputs": []
    },
    {
      "cell_type": "markdown",
      "metadata": {
        "id": "C3x0ZRLxjMVr"
      },
      "source": [
        "Set Environment Variables:"
      ]
    },
    {
      "cell_type": "code",
      "metadata": {
        "id": "sdOOq4twHN1K"
      },
      "source": [
        "import os\n",
        "os.environ[\"JAVA_HOME\"] = \"/usr/lib/jvm/java-8-openjdk-amd64\"\n",
        "os.environ[\"SPARK_HOME\"] = \"/content/spark-3.1.1-bin-hadoop3.2\""
      ],
      "execution_count": null,
      "outputs": []
    },
    {
      "cell_type": "code",
      "metadata": {
        "id": "3ACYMwhgHTYz",
        "colab": {
          "base_uri": "https://localhost:8080/"
        },
        "outputId": "d3a71fd7-c287-4bc1-dcd6-5962c2f3bbb0"
      },
      "source": [
        "!ls"
      ],
      "execution_count": null,
      "outputs": [
        {
          "output_type": "stream",
          "name": "stdout",
          "text": [
            "sample_data  spark-3.1.1-bin-hadoop3.2\tspark-3.1.1-bin-hadoop3.2.tgz\n"
          ]
        }
      ]
    },
    {
      "cell_type": "code",
      "metadata": {
        "id": "KR1zLBk1998Z",
        "colab": {
          "base_uri": "https://localhost:8080/",
          "height": 222
        },
        "outputId": "042aed75-d41c-48a0-a27b-6ef39be9ebd4"
      },
      "source": [
        "import findspark\n",
        "findspark.init()\n",
        "from pyspark.sql import SparkSession\n",
        "spark = SparkSession.builder.master(\"local[*]\").getOrCreate()\n",
        "spark.conf.set(\"spark.sql.repl.eagerEval.enabled\", True) # Property used to format output tables better\n",
        "spark"
      ],
      "execution_count": null,
      "outputs": [
        {
          "output_type": "execute_result",
          "data": {
            "text/plain": [
              "<pyspark.sql.session.SparkSession at 0x7d2d5414cb50>"
            ],
            "text/html": [
              "\n",
              "            <div>\n",
              "                <p><b>SparkSession - in-memory</b></p>\n",
              "                \n",
              "        <div>\n",
              "            <p><b>SparkContext</b></p>\n",
              "\n",
              "            <p><a href=\"http://2c31cd8b0122:4040\">Spark UI</a></p>\n",
              "\n",
              "            <dl>\n",
              "              <dt>Version</dt>\n",
              "                <dd><code>v3.1.1</code></dd>\n",
              "              <dt>Master</dt>\n",
              "                <dd><code>local[*]</code></dd>\n",
              "              <dt>AppName</dt>\n",
              "                <dd><code>pyspark-shell</code></dd>\n",
              "            </dl>\n",
              "        </div>\n",
              "        \n",
              "            </div>\n",
              "        "
            ]
          },
          "metadata": {},
          "execution_count": 4
        }
      ]
    },
    {
      "cell_type": "markdown",
      "source": [
        "### Spark RDD and NumberCount"
      ],
      "metadata": {
        "id": "FehztWJ5P5_d"
      }
    },
    {
      "cell_type": "code",
      "source": [
        "# Generate random numbers\n",
        "\n",
        "from random import randint\n",
        "\n",
        "random_file = open(\"sample_data/random.txt\", \"w+\" )\n",
        "# 100M numbers\n",
        "count = 100 * 1000 * 1000\n",
        "for _ in range(count):\n",
        "  # random number between 0 and 10\n",
        "  value = randint(0,10)\n",
        "  if value != 5:\n",
        "    random_file.write(str(value))\n",
        "    random_file.write(\" \")\n",
        "  else:\n",
        "    random_file.write(str(value))\n",
        "    random_file.write(\"\\n\")\n",
        "\n",
        "\n",
        "random_file.close()\n"
      ],
      "metadata": {
        "id": "vscIShvVP9c0"
      },
      "execution_count": null,
      "outputs": []
    },
    {
      "cell_type": "code",
      "source": [
        "!head -n 10 sample_data/random.txt"
      ],
      "metadata": {
        "colab": {
          "base_uri": "https://localhost:8080/"
        },
        "id": "ydxecS30vWnn",
        "outputId": "71b450ad-97f7-4bff-bcbf-75dd30b53b61"
      },
      "execution_count": null,
      "outputs": [
        {
          "output_type": "stream",
          "name": "stdout",
          "text": [
            "7 6 0 1 6 3 7 2 7 3 2 9 8 6 10 6 2 9 8 3 0 1 1 0 2 2 3 0 3 3 0 10 4 6 3 7 10 9 5\n",
            "1 7 1 6 6 10 5\n",
            "1 3 2 9 10 5\n",
            "3 5\n",
            "4 8 2 5\n",
            "9 6 2 9 5\n",
            "9 2 3 9 6 10 9 4 8 6 6 10 6 2 5\n",
            "2 10 7 1 9 5\n",
            "6 3 10 2 6 10 4 7 2 10 9 6 5\n",
            "8 1 10 2 10 9 6 3 2 4 2 5\n"
          ]
        }
      ]
    },
    {
      "cell_type": "code",
      "source": [
        "!wc -l sample_data/random.txt"
      ],
      "metadata": {
        "colab": {
          "base_uri": "https://localhost:8080/"
        },
        "id": "HAIsb7_Evd8C",
        "outputId": "96dc9b36-ac16-4ba3-be60-6432454e05a4"
      },
      "execution_count": null,
      "outputs": [
        {
          "output_type": "stream",
          "name": "stdout",
          "text": [
            "9093414 sample_data/random.txt\n"
          ]
        }
      ]
    },
    {
      "cell_type": "code",
      "source": [
        "filename = 'sample_data/random.txt'\n",
        "linesRdd = spark.read.text(filename).rdd.map(lambda r: r[0])\n",
        "print(\"Number of partitions: {}\".format(linesRdd.getNumPartitions()))\n",
        "print(\"Number of lines: {}\".format(linesRdd.count()))"
      ],
      "metadata": {
        "colab": {
          "base_uri": "https://localhost:8080/"
        },
        "id": "PjG0uqQ8r-Vk",
        "outputId": "23a172d8-803b-4ef0-c779-c08a8050decd"
      },
      "execution_count": null,
      "outputs": [
        {
          "output_type": "stream",
          "name": "stdout",
          "text": [
            "Number of partitions: 2\n",
            "Number of lines: 9093415\n"
          ]
        }
      ]
    },
    {
      "cell_type": "code",
      "source": [
        "from operator import add\n",
        "\n",
        "countsRdd = linesRdd.sample(False,0.01) \\\n",
        "  .flatMap(lambda line: line.split(' ')) \\\n",
        "  .filter(lambda number: int(number) % 2 == 0) \\\n",
        "  .map(lambda number: (number, 1)) \\\n",
        "  .reduceByKey(add)"
      ],
      "metadata": {
        "id": "JxtcNYnfxcnX"
      },
      "execution_count": null,
      "outputs": []
    },
    {
      "cell_type": "code",
      "source": [
        "output = countsRdd.collect()\n",
        "for (number, count) in output:\n",
        "    print(number, count)"
      ],
      "metadata": {
        "colab": {
          "base_uri": "https://localhost:8080/"
        },
        "id": "jlWFwn4Zy4An",
        "outputId": "886a0781-9c58-442d-c18a-a63bede95c07"
      },
      "execution_count": null,
      "outputs": [
        {
          "output_type": "stream",
          "name": "stdout",
          "text": [
            "10 90873\n",
            "4 90491\n",
            "8 90918\n",
            "0 90564\n",
            "2 90834\n",
            "6 90659\n"
          ]
        }
      ]
    },
    {
      "cell_type": "markdown",
      "source": [
        "### Spark actions and transformations"
      ],
      "metadata": {
        "id": "bfykG2vp3KVv"
      }
    },
    {
      "cell_type": "code",
      "source": [
        "linesRdd = spark.sparkContext.textFile(\"sample_data/README.md\")\n",
        "linesRdd.count()"
      ],
      "metadata": {
        "colab": {
          "base_uri": "https://localhost:8080/"
        },
        "id": "ci-vv1pg3O8P",
        "outputId": "fb5697c8-73df-421a-9531-3f94f90b586e"
      },
      "execution_count": null,
      "outputs": [
        {
          "output_type": "execute_result",
          "data": {
            "text/plain": [
              "19"
            ]
          },
          "metadata": {},
          "execution_count": 31
        }
      ]
    },
    {
      "cell_type": "code",
      "source": [
        "mapRdd = linesRdd.map(lambda line: (line, len(line)))\n",
        "mapRdd.collect()"
      ],
      "metadata": {
        "colab": {
          "base_uri": "https://localhost:8080/"
        },
        "id": "taex_dQS4Ntm",
        "outputId": "3492b200-fa71-4c20-97f6-41caa8f90814"
      },
      "execution_count": null,
      "outputs": [
        {
          "output_type": "execute_result",
          "data": {
            "text/plain": [
              "[('This directory includes a few sample datasets to get you started.', 65),\n",
              " ('', 0),\n",
              " ('*   `california_housing_data*.csv` is California housing data from the 1990 US',\n",
              "  78),\n",
              " ('    Census; more information is available at:', 45),\n",
              " ('    https://developers.google.com/machine-learning/crash-course/california-housing-data-description',\n",
              "  99),\n",
              " ('', 0),\n",
              " ('*   `mnist_*.csv` is a small sample of the', 42),\n",
              " ('    [MNIST database](https://en.wikipedia.org/wiki/MNIST_database), which is',\n",
              "  76),\n",
              " ('    described at: http://yann.lecun.com/exdb/mnist/', 51),\n",
              " ('', 0),\n",
              " ('*   `anscombe.json` contains a copy of', 38),\n",
              " (\"    [Anscombe's quartet](https://en.wikipedia.org/wiki/Anscombe%27s_quartet); it\",\n",
              "  80),\n",
              " ('    was originally described in', 31),\n",
              " ('', 0),\n",
              " (\"    Anscombe, F. J. (1973). 'Graphs in Statistical Analysis'. American\",\n",
              "  70),\n",
              " ('    Statistician. 27 (1): 17-21. JSTOR 2682899.', 47),\n",
              " ('', 0),\n",
              " ('    and our copy was prepared by the', 36),\n",
              " ('    [vega_datasets library](https://github.com/altair-viz/vega_datasets/blob/4f67bdaad10f45e3549984e17e1b3088c731503d/vega_datasets/_data/anscombe.json).',\n",
              "  153)]"
            ]
          },
          "metadata": {},
          "execution_count": 33
        }
      ]
    },
    {
      "cell_type": "code",
      "source": [
        "filterRdd = linesRdd.flatMap(lambda line: line.split()) \\\n",
        "                    .filter(lambda word : word.startswith(\"a\"))\n",
        "filterRdd.collect()"
      ],
      "metadata": {
        "colab": {
          "base_uri": "https://localhost:8080/"
        },
        "id": "ZeoQwAyw4Z0i",
        "outputId": "6ccc96e3-7bcc-4675-ecc9-e26368726a20"
      },
      "execution_count": null,
      "outputs": [
        {
          "output_type": "execute_result",
          "data": {
            "text/plain": [
              "['a', 'available', 'at:', 'a', 'at:', 'a', 'and']"
            ]
          },
          "metadata": {},
          "execution_count": 34
        }
      ]
    },
    {
      "cell_type": "code",
      "source": [
        "lista = [\"um\", \"um\", \"dois\", \"tres\"]\n",
        "\n",
        "rdd = spark.sparkContext.parallelize(lista)\n",
        "rdd2 = rdd.map(lambda w: (w, 1)) \\\n",
        "          .reduceByKey(lambda a,b: a+b)\n",
        "rdd2.collect()"
      ],
      "metadata": {
        "colab": {
          "base_uri": "https://localhost:8080/"
        },
        "id": "sgbbM62847ej",
        "outputId": "d424d1fc-5a89-45ef-a516-4f4e876d994d"
      },
      "execution_count": null,
      "outputs": [
        {
          "output_type": "execute_result",
          "data": {
            "text/plain": [
              "[('um', 2), ('dois', 1), ('tres', 1)]"
            ]
          },
          "metadata": {},
          "execution_count": 37
        }
      ]
    },
    {
      "cell_type": "code",
      "source": [
        "lista = [\"um\", \"um\", \"dois\", \"tres\"]\n",
        "\n",
        "rdd = spark.sparkContext.parallelize(lista)\n",
        "rdd2 = rdd.map(lambda w: (w, 1)) \\\n",
        "          .reduceByKey(lambda a,b: a+b) \\\n",
        "          .sortByKey(\"asc\")\n",
        "rdd2.collect()"
      ],
      "metadata": {
        "colab": {
          "base_uri": "https://localhost:8080/"
        },
        "id": "r6Nn3c0o6RrC",
        "outputId": "5b87fdab-bd7b-4f84-cdbf-cf6839bbdbec"
      },
      "execution_count": null,
      "outputs": [
        {
          "output_type": "execute_result",
          "data": {
            "text/plain": [
              "[('dois', 1), ('tres', 1), ('um', 2)]"
            ]
          },
          "metadata": {},
          "execution_count": 38
        }
      ]
    },
    {
      "cell_type": "code",
      "source": [
        "lista = [\"um\", \"um\", \"dois\", \"tres\"]\n",
        "\n",
        "rdd = spark.sparkContext.parallelize(lista)\n",
        "rdd2 = rdd.map(lambda w: (w, 1)) \\\n",
        "          .reduceByKey(lambda a,b: a+b) \\\n",
        "          .sortBy(lambda t: t[1])\n",
        "rdd2.collect()"
      ],
      "metadata": {
        "colab": {
          "base_uri": "https://localhost:8080/"
        },
        "id": "HYagDWA_6hyH",
        "outputId": "3940707d-59da-4e6d-915e-e52d06a11999"
      },
      "execution_count": null,
      "outputs": [
        {
          "output_type": "execute_result",
          "data": {
            "text/plain": [
              "[('dois', 1), ('tres', 1), ('um', 2)]"
            ]
          },
          "metadata": {},
          "execution_count": 39
        }
      ]
    },
    {
      "cell_type": "code",
      "source": [
        "lista1 = [\"um\", \"um\", \"dois\", \"tres\"]\n",
        "lista2 = [\"quatro\", \"cinco\"]\n",
        "\n",
        "rdd1 = spark.sparkContext.parallelize(lista1)\n",
        "rdd2 = spark.sparkContext.parallelize(lista2)\n",
        "rddUnion = rdd1.union(rdd2)\n",
        "rddUnion.collect()"
      ],
      "metadata": {
        "colab": {
          "base_uri": "https://localhost:8080/"
        },
        "id": "7B0ZJlLY66Tu",
        "outputId": "8be80947-dab4-4d36-b422-29a7b408f00c"
      },
      "execution_count": null,
      "outputs": [
        {
          "output_type": "execute_result",
          "data": {
            "text/plain": [
              "['um', 'um', 'dois', 'tres', 'quatro', 'cinco']"
            ]
          },
          "metadata": {},
          "execution_count": 40
        }
      ]
    },
    {
      "cell_type": "code",
      "source": [
        "lista1 = [\"um\", \"um\", \"dois\", \"tres\"]\n",
        "lista2 = [\"um\", \"quatro\", \"cinco\"]\n",
        "\n",
        "rdd1 = spark.sparkContext.parallelize(lista1)\n",
        "rdd2 = spark.sparkContext.parallelize(lista2)\n",
        "rddUnion = rdd1.intersection(rdd2)\n",
        "rddUnion.collect()"
      ],
      "metadata": {
        "colab": {
          "base_uri": "https://localhost:8080/"
        },
        "id": "0VQg0rN27e5v",
        "outputId": "c9f44280-018e-4a2a-97d8-d388dc19578c"
      },
      "execution_count": null,
      "outputs": [
        {
          "output_type": "execute_result",
          "data": {
            "text/plain": [
              "['um']"
            ]
          },
          "metadata": {},
          "execution_count": 41
        }
      ]
    },
    {
      "cell_type": "code",
      "source": [
        "lista1 = [\"um\", \"um\", \"dois\", \"tres\"]\n",
        "\n",
        "rdd1 = spark.sparkContext.parallelize(lista1)\n",
        "rddDistinct = rdd1.distinct()\n",
        "rddDistinct.collect()"
      ],
      "metadata": {
        "colab": {
          "base_uri": "https://localhost:8080/"
        },
        "id": "zSOSqkjd7uUW",
        "outputId": "551d2d72-ac82-4f20-c554-62b27816c1b8"
      },
      "execution_count": null,
      "outputs": [
        {
          "output_type": "execute_result",
          "data": {
            "text/plain": [
              "['um', 'dois', 'tres']"
            ]
          },
          "metadata": {},
          "execution_count": 42
        }
      ]
    },
    {
      "cell_type": "code",
      "source": [
        "lista1 = [(\"Pedro\", 39), (\"Maria\", 30)]\n",
        "lista2 = [(\"Pedro\", \"BH\"), (\"Maria\", \"SP\"), (\"João\", \"RJ\")]\n",
        "\n",
        "rdd1 = spark.sparkContext.parallelize(lista1)\n",
        "rdd2 = spark.sparkContext.parallelize(lista2)\n",
        "\n",
        "rddJoin = rdd1.join(rdd2)\n",
        "\n",
        "rddJoin.collect()"
      ],
      "metadata": {
        "colab": {
          "base_uri": "https://localhost:8080/"
        },
        "id": "e4YWTff08BSK",
        "outputId": "e24269f6-cdb2-4fdd-f7c7-181e33a23716"
      },
      "execution_count": null,
      "outputs": [
        {
          "output_type": "execute_result",
          "data": {
            "text/plain": [
              "[('Pedro', (39, 'BH')), ('Maria', (30, 'SP'))]"
            ]
          },
          "metadata": {},
          "execution_count": 43
        }
      ]
    },
    {
      "cell_type": "code",
      "source": [
        "rddJoin.count()"
      ],
      "metadata": {
        "colab": {
          "base_uri": "https://localhost:8080/"
        },
        "id": "A7z-W5B58raP",
        "outputId": "b38182ab-3b92-4aad-84e0-f0909b1adef5"
      },
      "execution_count": null,
      "outputs": [
        {
          "output_type": "execute_result",
          "data": {
            "text/plain": [
              "2"
            ]
          },
          "metadata": {},
          "execution_count": 44
        }
      ]
    },
    {
      "cell_type": "code",
      "source": [
        "rddJoin.take(1)"
      ],
      "metadata": {
        "colab": {
          "base_uri": "https://localhost:8080/"
        },
        "id": "LluIWwRh8-LS",
        "outputId": "9aada9d7-b648-4e3d-b105-7510469eef5c"
      },
      "execution_count": null,
      "outputs": [
        {
          "output_type": "execute_result",
          "data": {
            "text/plain": [
              "[('Pedro', (39, 'BH'))]"
            ]
          },
          "metadata": {},
          "execution_count": 45
        }
      ]
    },
    {
      "cell_type": "code",
      "source": [
        "lista1 = [\"um\", \"um\", \"dois\", \"tres\"]\n",
        "lista2 = [\"quatro\", \"cinco\"]\n",
        "\n",
        "rdd1 = spark.sparkContext.parallelize(lista1)\n",
        "rdd2 = spark.sparkContext.parallelize(lista2)\n",
        "rddUnion = rdd1.union(rdd2)\n",
        "rddUnion.collect()\n",
        "rddUnion.top(3)"
      ],
      "metadata": {
        "colab": {
          "base_uri": "https://localhost:8080/"
        },
        "id": "y_Vp-B1K9CSu",
        "outputId": "10ab56c7-d7a6-43ba-845c-1a3ec6f116e6"
      },
      "execution_count": null,
      "outputs": [
        {
          "output_type": "execute_result",
          "data": {
            "text/plain": [
              "['um', 'um', 'tres']"
            ]
          },
          "metadata": {},
          "execution_count": 49
        }
      ]
    },
    {
      "cell_type": "code",
      "source": [
        "lista1 = [\"um\", \"um\", \"dois\", \"tres\"]\n",
        "lista2 = [\"quatro\", \"cinco\"]\n",
        "\n",
        "rdd1 = spark.sparkContext.parallelize(lista1)\n",
        "rdd2 = spark.sparkContext.parallelize(lista2)\n",
        "rddUnion = rdd1.union(rdd2)\n",
        "rddUnion.collect()\n",
        "rddUnion.countByValue()"
      ],
      "metadata": {
        "colab": {
          "base_uri": "https://localhost:8080/"
        },
        "id": "pSTBcQ_49Qsa",
        "outputId": "638b10c5-128d-41cf-a10f-ff0e43b3699c"
      },
      "execution_count": null,
      "outputs": [
        {
          "output_type": "execute_result",
          "data": {
            "text/plain": [
              "defaultdict(int, {'um': 2, 'dois': 1, 'tres': 1, 'quatro': 1, 'cinco': 1})"
            ]
          },
          "metadata": {},
          "execution_count": 50
        }
      ]
    },
    {
      "cell_type": "code",
      "source": [
        "rddUnion.saveAsTextFile('sample_data/rdd/out')"
      ],
      "metadata": {
        "id": "2EFr-VzJ9fBO"
      },
      "execution_count": null,
      "outputs": []
    },
    {
      "cell_type": "markdown",
      "source": [
        "### Spark cache and optmization strategies"
      ],
      "metadata": {
        "id": "Xv3U-kT4Am58"
      }
    },
    {
      "cell_type": "code",
      "source": [
        "filename = 'sample_data/random.txt'\n",
        "data = spark.read.text(filename).rdd.map(lambda r: r[0])\n",
        "ones = data.sample(False,0.01) \\\n",
        "  .flatMap(lambda line: line.split(' ')) \\\n",
        "  .filter(lambda number: int(number) == 1)\n",
        "\n",
        "print(\"Counting numbers ...\")\n",
        "print(ones.count())\n",
        "print(\"Counting numbers again...\")\n",
        "print(ones.count())"
      ],
      "metadata": {
        "colab": {
          "base_uri": "https://localhost:8080/"
        },
        "id": "tcU5yxGuFWdJ",
        "outputId": "1eb607f0-daab-445e-ad5f-482f754dcea0"
      },
      "execution_count": null,
      "outputs": [
        {
          "output_type": "stream",
          "name": "stdout",
          "text": [
            "Counting numbers ...\n",
            "Counting numbers again...\n"
          ]
        },
        {
          "output_type": "execute_result",
          "data": {
            "text/plain": [
              "91090"
            ]
          },
          "metadata": {},
          "execution_count": 58
        }
      ]
    },
    {
      "cell_type": "code",
      "source": [
        "print(\"Counting numbers ...\")\n",
        "print(ones.count())\n",
        "print(ones.cache())\n",
        "print(\"Counting numbers again...\")\n",
        "print(ones.count())"
      ],
      "metadata": {
        "colab": {
          "base_uri": "https://localhost:8080/"
        },
        "id": "Y9d4wCclEfey",
        "outputId": "48ab5dad-118b-4c97-de2e-0e97e4e75580"
      },
      "execution_count": null,
      "outputs": [
        {
          "output_type": "stream",
          "name": "stdout",
          "text": [
            "Counting numbers ...\n",
            "91090\n",
            "False\n",
            "Counting numbers again...\n",
            "91090\n"
          ]
        }
      ]
    },
    {
      "cell_type": "code",
      "source": [],
      "metadata": {
        "id": "KP5cxb6-Gqxe"
      },
      "execution_count": null,
      "outputs": []
    }
  ]
}