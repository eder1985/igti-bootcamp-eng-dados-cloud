{
  "nbformat": 4,
  "nbformat_minor": 0,
  "metadata": {
    "colab": {
      "provenance": [],
      "authorship_tag": "ABX9TyPw44PMljHAvCmryEePQGwW",
      "include_colab_link": true
    },
    "kernelspec": {
      "name": "python3",
      "display_name": "Python 3"
    },
    "language_info": {
      "name": "python"
    }
  },
  "cells": [
    {
      "cell_type": "markdown",
      "metadata": {
        "id": "view-in-github",
        "colab_type": "text"
      },
      "source": [
        "<a href=\"https://colab.research.google.com/github/eder1985/igti-bootcamp-eng-dados-cloud/blob/main/modulo_2/igti_edc_mod2_desafio.ipynb\" target=\"_parent\"><img src=\"https://colab.research.google.com/assets/colab-badge.svg\" alt=\"Open In Colab\"/></a>"
      ]
    },
    {
      "cell_type": "markdown",
      "metadata": {
        "id": "iox_ufgbqDXa"
      },
      "source": [
        "<h1><center>IGTI/XP Educação/Bootcamp Engenharia de Dados Cloud - Módulo 2 - Desafio\n",
        "</center></h1>"
      ]
    },
    {
      "cell_type": "markdown",
      "metadata": {
        "id": "Dd6t0uFzuR4X"
      },
      "source": [
        "### Installing Spark"
      ]
    },
    {
      "cell_type": "markdown",
      "metadata": {
        "id": "6apGVff5h4ca"
      },
      "source": [
        "Install Dependencies:\n",
        "\n",
        "\n",
        "1.   Java 8\n",
        "2.   Apache Spark with hadoop and\n",
        "3.   Findspark (used to locate the spark in the system)\n"
      ]
    },
    {
      "cell_type": "code",
      "metadata": {
        "id": "tt7ZS1_wGgjn"
      },
      "source": [
        "!apt-get install openjdk-8-jdk-headless -qq > /dev/null\n",
        "!wget -q http://archive.apache.org/dist/spark/spark-3.1.1/spark-3.1.1-bin-hadoop3.2.tgz\n",
        "!tar xf spark-3.1.1-bin-hadoop3.2.tgz\n",
        "!pip install -q findspark"
      ],
      "execution_count": 1,
      "outputs": []
    },
    {
      "cell_type": "markdown",
      "metadata": {
        "id": "C3x0ZRLxjMVr"
      },
      "source": [
        "Set Environment Variables:"
      ]
    },
    {
      "cell_type": "code",
      "metadata": {
        "id": "sdOOq4twHN1K"
      },
      "source": [
        "import os\n",
        "os.environ[\"JAVA_HOME\"] = \"/usr/lib/jvm/java-8-openjdk-amd64\"\n",
        "os.environ[\"SPARK_HOME\"] = \"/content/spark-3.1.1-bin-hadoop3.2\""
      ],
      "execution_count": 2,
      "outputs": []
    },
    {
      "cell_type": "code",
      "metadata": {
        "id": "3ACYMwhgHTYz",
        "colab": {
          "base_uri": "https://localhost:8080/"
        },
        "outputId": "7239cf48-c2f2-4e36-b8e1-800ae48c4605"
      },
      "source": [
        "!ls"
      ],
      "execution_count": 3,
      "outputs": [
        {
          "output_type": "stream",
          "name": "stdout",
          "text": [
            "sample_data  spark-3.1.1-bin-hadoop3.2\tspark-3.1.1-bin-hadoop3.2.tgz\n"
          ]
        }
      ]
    },
    {
      "cell_type": "code",
      "metadata": {
        "id": "KR1zLBk1998Z",
        "colab": {
          "base_uri": "https://localhost:8080/",
          "height": 222
        },
        "outputId": "866fcd50-e392-457f-8856-e1c1fc096fe2"
      },
      "source": [
        "import findspark\n",
        "findspark.init()\n",
        "from pyspark.sql import SparkSession\n",
        "spark = SparkSession.builder.master(\"local[*]\").getOrCreate()\n",
        "spark.conf.set(\"spark.sql.repl.eagerEval.enabled\", True) # Property used to format output tables better\n",
        "spark"
      ],
      "execution_count": 4,
      "outputs": [
        {
          "output_type": "execute_result",
          "data": {
            "text/plain": [
              "<pyspark.sql.session.SparkSession at 0x795520fc0b20>"
            ],
            "text/html": [
              "\n",
              "            <div>\n",
              "                <p><b>SparkSession - in-memory</b></p>\n",
              "                \n",
              "        <div>\n",
              "            <p><b>SparkContext</b></p>\n",
              "\n",
              "            <p><a href=\"http://3b9f95ac294c:4040\">Spark UI</a></p>\n",
              "\n",
              "            <dl>\n",
              "              <dt>Version</dt>\n",
              "                <dd><code>v3.1.1</code></dd>\n",
              "              <dt>Master</dt>\n",
              "                <dd><code>local[*]</code></dd>\n",
              "              <dt>AppName</dt>\n",
              "                <dd><code>pyspark-shell</code></dd>\n",
              "            </dl>\n",
              "        </div>\n",
              "        \n",
              "            </div>\n",
              "        "
            ]
          },
          "metadata": {},
          "execution_count": 4
        }
      ]
    },
    {
      "cell_type": "markdown",
      "source": [
        "### Desafio"
      ],
      "metadata": {
        "id": "qWOkpBQhSLX7"
      }
    },
    {
      "cell_type": "code",
      "source": [
        "!wget https://homepages.dcc.ufmg.br/~pcalais/XPE/engenharia-dados/big-data-spark/desafio/dados.zip --no-check-certificate"
      ],
      "metadata": {
        "colab": {
          "base_uri": "https://localhost:8080/"
        },
        "id": "r3qFlou9TKjx",
        "outputId": "b1dcd477-eb7f-4b2a-aa13-9f2b1ff5a512"
      },
      "execution_count": 6,
      "outputs": [
        {
          "output_type": "stream",
          "name": "stdout",
          "text": [
            "--2023-08-10 20:14:34--  https://homepages.dcc.ufmg.br/~pcalais/XPE/engenharia-dados/big-data-spark/desafio/dados.zip\n",
            "Resolving homepages.dcc.ufmg.br (homepages.dcc.ufmg.br)... 150.164.0.136\n",
            "Connecting to homepages.dcc.ufmg.br (homepages.dcc.ufmg.br)|150.164.0.136|:443... connected.\n",
            "WARNING: cannot verify homepages.dcc.ufmg.br's certificate, issued by ‘CN=GlobalSign RSA OV SSL CA 2018,O=GlobalSign nv-sa,C=BE’:\n",
            "  Unable to locally verify the issuer's authority.\n",
            "HTTP request sent, awaiting response... 200 OK\n",
            "Length: 1364337248 (1.3G) [application/zip]\n",
            "Saving to: ‘dados.zip’\n",
            "\n",
            "dados.zip           100%[===================>]   1.27G  11.4MB/s    in 2m 3s   \n",
            "\n",
            "2023-08-10 20:16:38 (10.6 MB/s) - ‘dados.zip’ saved [1364337248/1364337248]\n",
            "\n"
          ]
        }
      ]
    },
    {
      "cell_type": "code",
      "source": [
        "!unzip dados.zip"
      ],
      "metadata": {
        "colab": {
          "base_uri": "https://localhost:8080/"
        },
        "id": "Sm8tKo39IeWE",
        "outputId": "70130e36-3b68-4af4-ae25-66a131d002a6"
      },
      "execution_count": 12,
      "outputs": [
        {
          "output_type": "stream",
          "name": "stdout",
          "text": [
            "Archive:  dados.zip\n",
            "   creating: dados/cnaes/\n",
            "  inflating: dados/cnaes/cnaes.csv   \n",
            "   creating: dados/estabelecimentos/\n",
            "   creating: dados/estabelecimentos/estabelecimentos/\n",
            "  inflating: dados/estabelecimentos/estabelecimentos/estabelecimentos-1.csv  \n",
            "  inflating: dados/estabelecimentos/estabelecimentos/estabelecimentos-2.csv  \n",
            "  inflating: dados/estabelecimentos/estabelecimentos/estabelecimentos-3.csv  \n",
            "  inflating: dados/NOVOLAYOUTDOSDADOSABERTOSDOCNPJ.pdf  \n"
          ]
        }
      ]
    },
    {
      "cell_type": "code",
      "source": [
        "!head -n 2 dados/cnaes/cnaes.csv"
      ],
      "metadata": {
        "colab": {
          "base_uri": "https://localhost:8080/"
        },
        "id": "oAYcu1YRIyrR",
        "outputId": "c443f12f-1fb7-490e-fe89-5eb9804d7eae"
      },
      "execution_count": 13,
      "outputs": [
        {
          "output_type": "stream",
          "name": "stdout",
          "text": [
            "CNAE;DESCRICAO_CNAE\n",
            "\"0111301\";\"Cultivo de arroz\"\n"
          ]
        }
      ]
    },
    {
      "cell_type": "code",
      "source": [
        "df_cnaes = spark.read.csv(\n",
        "    'dados/cnaes/cnaes.csv',\n",
        "    header=True,\n",
        "    inferSchema=True,\n",
        "    sep=';',\n",
        "    encoding=\"ISO-8859-1\")"
      ],
      "metadata": {
        "id": "udg6O6dnTz2z"
      },
      "execution_count": 21,
      "outputs": []
    },
    {
      "cell_type": "code",
      "source": [
        "df_cnaes.show(5,truncate = False)"
      ],
      "metadata": {
        "colab": {
          "base_uri": "https://localhost:8080/"
        },
        "id": "DEeD7j0EUdWO",
        "outputId": "30f59776-aad7-4145-bf7b-0ee1c5f7245e"
      },
      "execution_count": 33,
      "outputs": [
        {
          "output_type": "stream",
          "name": "stdout",
          "text": [
            "+------+---------------------------------------------------------+\n",
            "|CNAE  |DESCRICAO_CNAE                                           |\n",
            "+------+---------------------------------------------------------+\n",
            "|111301|Cultivo de arroz                                         |\n",
            "|111302|Cultivo de milho                                         |\n",
            "|111303|Cultivo de trigo                                         |\n",
            "|111399|Cultivo de outros cereais não especificados anteriormente|\n",
            "|112101|Cultivo de algodão herbáceo                              |\n",
            "+------+---------------------------------------------------------+\n",
            "only showing top 5 rows\n",
            "\n"
          ]
        }
      ]
    },
    {
      "cell_type": "code",
      "source": [
        "df_cnaes.count()"
      ],
      "metadata": {
        "colab": {
          "base_uri": "https://localhost:8080/"
        },
        "id": "fMMsdYpJUg5g",
        "outputId": "bc1be514-d87d-4942-fe3e-89f7fcfc2540"
      },
      "execution_count": 26,
      "outputs": [
        {
          "output_type": "execute_result",
          "data": {
            "text/plain": [
              "1359"
            ]
          },
          "metadata": {},
          "execution_count": 26
        }
      ]
    },
    {
      "cell_type": "code",
      "source": [
        "df_cnaes.printSchema()"
      ],
      "metadata": {
        "colab": {
          "base_uri": "https://localhost:8080/"
        },
        "id": "FSfUzNilczYe",
        "outputId": "82294adc-a04c-4864-92bd-5b8d32ff94ef"
      },
      "execution_count": 27,
      "outputs": [
        {
          "output_type": "stream",
          "name": "stdout",
          "text": [
            "root\n",
            " |-- CNAE: integer (nullable = true)\n",
            " |-- DESCRICAO_CNAE: string (nullable = true)\n",
            "\n"
          ]
        }
      ]
    },
    {
      "cell_type": "code",
      "source": [
        "!head -n 2 dados/estabelecimentos/estabelecimentos/*.csv"
      ],
      "metadata": {
        "colab": {
          "base_uri": "https://localhost:8080/"
        },
        "outputId": "263b9354-b4b0-4dc3-ed0b-aadafe74f6de",
        "id": "W1SgDr3_KB5s"
      },
      "execution_count": 28,
      "outputs": [
        {
          "output_type": "stream",
          "name": "stdout",
          "text": [
            "==> dados/estabelecimentos/estabelecimentos/estabelecimentos-1.csv <==\n",
            "CNPJ_BASICO;CNPJ_ORDEM;CNPJ_DV;IDENTIFICADOR_MATRIZ_FILIAL;NOME_FANTASIA;SITUACAO_CADASTRAL;DATA_SITUACAO_CADASTRAL;MOTIVO_SITUACAO_CADASTRAL;NOME_DA_CIDADE_NO_EXTERIOR;PAIS;DATA_INICIO_ATIVIDADE;CNAE_PRINCIPAL;CNAE_SECUNDARIA;TIPO_LOGRADOURO;LOGRADOURO;NUMERO;COMPLEMENTO;BAIRRO;CEP;UF;MUNICIPIO;DDD_1;TEL_1;DDD_2;TEL_2;DDD_FAX;FAX;CORREIO_ELETRONICO;SITUACAO_ESPECIAL;DATA_SITUACAO_ESPECIAL\r\n",
            "7396865;1;68;1;\"\";8;20170210;1;\"\";\"\";20050518;1412602;1411801;RUA;TUCANEIRA;30;\"\";DOS LAGOS;89136000;SC;8297;47;33851125;47;33851125;47.0;33851125;\"\";\"\";\"\"\r\n",
            "\n",
            "==> dados/estabelecimentos/estabelecimentos/estabelecimentos-2.csv <==\n",
            "CNPJ_BASICO;CNPJ_ORDEM;CNPJ_DV;IDENTIFICADOR_MATRIZ_FILIAL;NOME_FANTASIA;SITUACAO_CADASTRAL;DATA_SITUACAO_CADASTRAL;MOTIVO_SITUACAO_CADASTRAL;NOME_DA_CIDADE_NO_EXTERIOR;PAIS;DATA_INICIO_ATIVIDADE;CNAE_PRINCIPAL;CNAE_SECUNDARIA;TIPO_LOGRADOURO;LOGRADOURO;NUMERO;COMPLEMENTO;BAIRRO;CEP;UF;MUNICIPIO;DDD_1;TEL_1;DDD_2;TEL_2;DDD_FAX;FAX;CORREIO_ELETRONICO;SITUACAO_ESPECIAL;DATA_SITUACAO_ESPECIAL\r\n",
            "28678846;1;2;1;\"\";2;20220314;0;\"\";\"\";20170919;4729699;\"\";AVENIDA;LEONARDO ANTONIO SCHIAVINATTO;35;\"\";JARDIM PARAISO I (NOVA VENEZA);13179335;SP;7149;19;89501163;\"\";\"\";\"\";\"\";ROSYJACOMO@HOTMAIL.COM;\"\";\"\"\r\n",
            "\n",
            "==> dados/estabelecimentos/estabelecimentos/estabelecimentos-3.csv <==\n",
            "CNPJ_BASICO;CNPJ_ORDEM;CNPJ_DV;IDENTIFICADOR_MATRIZ_FILIAL;NOME_FANTASIA;SITUACAO_CADASTRAL;DATA_SITUACAO_CADASTRAL;MOTIVO_SITUACAO_CADASTRAL;NOME_DA_CIDADE_NO_EXTERIOR;PAIS;DATA_INICIO_ATIVIDADE;CNAE_PRINCIPAL;CNAE_SECUNDARIA;TIPO_LOGRADOURO;LOGRADOURO;NUMERO;COMPLEMENTO;BAIRRO;CEP;UF;MUNICIPIO;DDD_1;TEL_1;DDD_2;TEL_2;DDD_FAX;FAX;CORREIO_ELETRONICO;SITUACAO_ESPECIAL;DATA_SITUACAO_ESPECIAL\r\n",
            "18380574;3;60;2;\"\";02;20210331;0;\"\";\"\";20210331;113000;0116499;ESTRADA;MUNICIPAL SUZANAPOLIS A APARECIDA DOESTE;S/N;ST SAO FRANCISCO III;PONTE PENSA;15380000;SP;2945;18;97463793;18;36581216;18.0;36581216;NEREURIZZATO@GMAIL.COM;\"\";\"\"\r\n"
          ]
        }
      ]
    },
    {
      "cell_type": "code",
      "source": [
        "df_estabelecimentos = spark.read.csv(\n",
        "    'dados/estabelecimentos/estabelecimentos/',\n",
        "    header=True,\n",
        "    inferSchema=True,\n",
        "    sep=';',\n",
        "    encoding=\"ISO-8859-1\")"
      ],
      "metadata": {
        "id": "Yr0LzY3HUlyN"
      },
      "execution_count": 30,
      "outputs": []
    },
    {
      "cell_type": "code",
      "source": [
        "df_estabelecimentos.show(5,truncate = False)"
      ],
      "metadata": {
        "colab": {
          "base_uri": "https://localhost:8080/"
        },
        "id": "zR2LkXUNUqXx",
        "outputId": "67b682b1-eb8e-44a5-8fdd-55a4b3ba1c5c"
      },
      "execution_count": 34,
      "outputs": [
        {
          "output_type": "stream",
          "name": "stdout",
          "text": [
            "+-----------+----------+-------+---------------------------+-------------+------------------+-----------------------+-------------------------+--------------------------+----+---------------------+--------------+---------------+---------------+-----------------+------+---------------------------------+---------+--------+---+---------+-----+--------+-----+--------+-------+--------+---------------------------+-----------------+----------------------+\n",
            "|CNPJ_BASICO|CNPJ_ORDEM|CNPJ_DV|IDENTIFICADOR_MATRIZ_FILIAL|NOME_FANTASIA|SITUACAO_CADASTRAL|DATA_SITUACAO_CADASTRAL|MOTIVO_SITUACAO_CADASTRAL|NOME_DA_CIDADE_NO_EXTERIOR|PAIS|DATA_INICIO_ATIVIDADE|CNAE_PRINCIPAL|CNAE_SECUNDARIA|TIPO_LOGRADOURO|LOGRADOURO       |NUMERO|COMPLEMENTO                      |BAIRRO   |CEP     |UF |MUNICIPIO|DDD_1|TEL_1   |DDD_2|TEL_2   |DDD_FAX|FAX     |CORREIO_ELETRONICO         |SITUACAO_ESPECIAL|DATA_SITUACAO_ESPECIAL|\n",
            "+-----------+----------+-------+---------------------------+-------------+------------------+-----------------------+-------------------------+--------------------------+----+---------------------+--------------+---------------+---------------+-----------------+------+---------------------------------+---------+--------+---+---------+-----+--------+-----+--------+-------+--------+---------------------------+-----------------+----------------------+\n",
            "|7396865    |1         |68     |1                          |null         |8                 |20170210               |1                        |null                      |null|20050518             |1412602       |1411801        |RUA            |TUCANEIRA        |30    |null                             |DOS LAGOS|89136000|SC |8297     |47   |33851125|47   |33851125|47.0   |33851125|null                       |null             |null                  |\n",
            "|64904295   |18        |51     |2                          |null         |8                 |20161110               |1                        |null                      |null|20050429             |4639701       |4637199        |AVENIDA        |MENINO MARCELO   |8551B |LOTE  2                   QUADRAF|SERRARIA |57046000|AL |2785     |11   |36491000|31   |33880436|82.0   |33118379|CLAUDIO.GIGLIO@CAMIL.COM.BR|null             |null                  |\n",
            "|76016369   |3         |16     |2                          |null         |3                 |20060203               |21                       |null                      |null|19851212             |4632001       |null           |RUA            |DO COMERCIO      |55    |SALA 7 GALERIA                   |CENTRO   |11010141|SP |7071     |null |null    |null |null    |null   |null    |null                       |null             |null                  |\n",
            "|52302726   |1         |82     |1                          |null         |4                 |20210406               |63                       |null                      |null|19830223             |4712100       |null           |RUA            |GREGORIO LUCHIARI|496   |null                             |SAO VITO |13472080|SP |6131     |null |null    |null |null    |null   |null    |null                       |null             |null                  |\n",
            "|7396923    |1         |53     |1                          |null         |8                 |20140115               |1                        |null                      |null|20050516             |4721102       |null           |RUA            |DA MOOCA         |3336  |null                             |MOOCA    |03165000|SP |7107     |011  |69658088|null |null    |null   |null    |null                       |null             |null                  |\n",
            "+-----------+----------+-------+---------------------------+-------------+------------------+-----------------------+-------------------------+--------------------------+----+---------------------+--------------+---------------+---------------+-----------------+------+---------------------------------+---------+--------+---+---------+-----+--------+-----+--------+-------+--------+---------------------------+-----------------+----------------------+\n",
            "only showing top 5 rows\n",
            "\n"
          ]
        }
      ]
    },
    {
      "cell_type": "code",
      "source": [
        "df_estabelecimentos.count()"
      ],
      "metadata": {
        "colab": {
          "base_uri": "https://localhost:8080/"
        },
        "id": "0gdfyxVhUstR",
        "outputId": "d41473f0-70dd-4289-a435-cafbf6e7db46"
      },
      "execution_count": 32,
      "outputs": [
        {
          "output_type": "execute_result",
          "data": {
            "text/plain": [
              "20996744"
            ]
          },
          "metadata": {},
          "execution_count": 32
        }
      ]
    },
    {
      "cell_type": "code",
      "source": [
        "df_estabelecimentos.printSchema()"
      ],
      "metadata": {
        "colab": {
          "base_uri": "https://localhost:8080/"
        },
        "id": "9cvO7y8oc2a1",
        "outputId": "46f0df16-4a0b-4844-a388-d5a90319010b"
      },
      "execution_count": 35,
      "outputs": [
        {
          "output_type": "stream",
          "name": "stdout",
          "text": [
            "root\n",
            " |-- CNPJ_BASICO: integer (nullable = true)\n",
            " |-- CNPJ_ORDEM: integer (nullable = true)\n",
            " |-- CNPJ_DV: integer (nullable = true)\n",
            " |-- IDENTIFICADOR_MATRIZ_FILIAL: integer (nullable = true)\n",
            " |-- NOME_FANTASIA: string (nullable = true)\n",
            " |-- SITUACAO_CADASTRAL: integer (nullable = true)\n",
            " |-- DATA_SITUACAO_CADASTRAL: integer (nullable = true)\n",
            " |-- MOTIVO_SITUACAO_CADASTRAL: integer (nullable = true)\n",
            " |-- NOME_DA_CIDADE_NO_EXTERIOR: string (nullable = true)\n",
            " |-- PAIS: integer (nullable = true)\n",
            " |-- DATA_INICIO_ATIVIDADE: integer (nullable = true)\n",
            " |-- CNAE_PRINCIPAL: integer (nullable = true)\n",
            " |-- CNAE_SECUNDARIA: string (nullable = true)\n",
            " |-- TIPO_LOGRADOURO: string (nullable = true)\n",
            " |-- LOGRADOURO: string (nullable = true)\n",
            " |-- NUMERO: string (nullable = true)\n",
            " |-- COMPLEMENTO: string (nullable = true)\n",
            " |-- BAIRRO: string (nullable = true)\n",
            " |-- CEP: string (nullable = true)\n",
            " |-- UF: string (nullable = true)\n",
            " |-- MUNICIPIO: integer (nullable = true)\n",
            " |-- DDD_1: string (nullable = true)\n",
            " |-- TEL_1: string (nullable = true)\n",
            " |-- DDD_2: string (nullable = true)\n",
            " |-- TEL_2: string (nullable = true)\n",
            " |-- DDD_FAX: double (nullable = true)\n",
            " |-- FAX: string (nullable = true)\n",
            " |-- CORREIO_ELETRONICO: string (nullable = true)\n",
            " |-- SITUACAO_ESPECIAL: string (nullable = true)\n",
            " |-- DATA_SITUACAO_ESPECIAL: integer (nullable = true)\n",
            "\n"
          ]
        }
      ]
    },
    {
      "cell_type": "markdown",
      "source": [
        "#### Pergunta 1: Quantos estabelecimentos existem?\n",
        "- R: 20996744\n"
      ],
      "metadata": {
        "id": "Efpg6LyVfGZi"
      }
    },
    {
      "cell_type": "code",
      "source": [
        "df_estabelecimentos.count()"
      ],
      "metadata": {
        "colab": {
          "base_uri": "https://localhost:8080/"
        },
        "id": "iIkY3HS_pzPN",
        "outputId": "6f7b54ca-2d4d-490c-dd71-7da3c4de3f68"
      },
      "execution_count": 36,
      "outputs": [
        {
          "output_type": "execute_result",
          "data": {
            "text/plain": [
              "20996744"
            ]
          },
          "metadata": {},
          "execution_count": 36
        }
      ]
    },
    {
      "cell_type": "markdown",
      "source": [
        "#### Pergunta 2: Na tabela de estabelecimentos, quantas colunas existem e quantas são identificadas pelo spark como números?\n",
        "- R: 30 e 13\n"
      ],
      "metadata": {
        "id": "DfwQ-xIXqNc0"
      }
    },
    {
      "cell_type": "code",
      "source": [
        "len(df_estabelecimentos.columns)"
      ],
      "metadata": {
        "colab": {
          "base_uri": "https://localhost:8080/"
        },
        "id": "rpvBE4Q7sJ78",
        "outputId": "f457e914-a580-474c-ac7b-2f85bfb82e6c"
      },
      "execution_count": 42,
      "outputs": [
        {
          "output_type": "execute_result",
          "data": {
            "text/plain": [
              "30"
            ]
          },
          "metadata": {},
          "execution_count": 42
        }
      ]
    },
    {
      "cell_type": "code",
      "source": [
        "types_list = [f.dataType for f in df_estabelecimentos.schema.fields]\n",
        "numeric_types_list = [\n",
        "    'ByteType',\n",
        "    'ShortType',\n",
        "    'IntegerType',\n",
        "    'LongType',\n",
        "    'FloatType',\n",
        "    'DoubleType',\n",
        "    'DecimalType'\n",
        "    ]\n",
        "filtered = filter(lambda type: str(type) in numeric_types_list, types_list)\n",
        "len(list(filtered))"
      ],
      "metadata": {
        "colab": {
          "base_uri": "https://localhost:8080/"
        },
        "id": "OwLT_EcaqTzC",
        "outputId": "bedb87ef-92a7-4c86-c755-a7a120b7c345"
      },
      "execution_count": 78,
      "outputs": [
        {
          "output_type": "execute_result",
          "data": {
            "text/plain": [
              "13"
            ]
          },
          "metadata": {},
          "execution_count": 78
        }
      ]
    },
    {
      "cell_type": "markdown",
      "source": [
        "#### Pergunta 3: O formato Parquet (https://parquet.apache.org/ Links to an external site.) é um formato de armazenamento útil em engenharia de dados projetado para armazenamento e recuperação eficiente dos dados. Ele usa mecanismos de compressão para que os dados ocupem menos espaço. Usando `estabelecimentos_df.write.parquet(\"estabelecimentos.parquet\")` , compare o tamanho do(s) arquivo(s) parquet com os arquivos CSV originais. A economia de espaço foi da ordem de:\n",
        "\n",
        "- R: ~ 2,5 vezes menos espaço"
      ],
      "metadata": {
        "id": "yQHYRaaGuSyx"
      }
    },
    {
      "cell_type": "code",
      "source": [
        "df_estabelecimentos.write.parquet(\"dados/estabelecimentos/estabelecimentos_parquet/\")"
      ],
      "metadata": {
        "id": "MB5cGLv7uZkG"
      },
      "execution_count": 58,
      "outputs": []
    },
    {
      "cell_type": "code",
      "source": [
        "!du -hcs dados/estabelecimentos/*"
      ],
      "metadata": {
        "colab": {
          "base_uri": "https://localhost:8080/"
        },
        "id": "N-78EBELu6ls",
        "outputId": "2b3214e7-e1c7-4441-eade-9b5672c70b60"
      },
      "execution_count": 69,
      "outputs": [
        {
          "output_type": "stream",
          "name": "stdout",
          "text": [
            "3.7G\tdados/estabelecimentos/estabelecimentos\n",
            "1.5G\tdados/estabelecimentos/estabelecimentos_parquet\n",
            "5.2G\ttotal\n"
          ]
        }
      ]
    },
    {
      "cell_type": "markdown",
      "source": [
        "#### Pergunta 4: Vamos usar Spark SQL para obter algumas contagens. Primeiro, vamos ver quantos estabelecimentos não tem logradouro cadastrado. Use `estabelecimentos_df.createTempView(\"estabelecimentos\")` para criar uma tabela temporária de logradouros e depois execute uma consulta SQL como `SELECT COUNT(*) FROM estabelecimentos WHERE LOGRADOURO IS NULL` para contar quantos estabelecimentos não tem logradouro informado. Quantos são?\n",
        "- R: 828"
      ],
      "metadata": {
        "id": "iU4gLEj3yEhL"
      }
    },
    {
      "cell_type": "code",
      "source": [
        "df_estabelecimentos_parquet = spark.read.parquet(\"dados/estabelecimentos/estabelecimentos_parquet/\")"
      ],
      "metadata": {
        "id": "yEiT0NqCFUKW"
      },
      "execution_count": 104,
      "outputs": []
    },
    {
      "cell_type": "code",
      "source": [
        "df_estabelecimentos.createTempView(\"estabelecimentos_csv\")"
      ],
      "metadata": {
        "id": "CGsp8Xq5yIcu"
      },
      "execution_count": null,
      "outputs": []
    },
    {
      "cell_type": "code",
      "source": [
        "df_estabelecimentos_parquet.createTempView(\"estabelecimentos_parquet\")"
      ],
      "metadata": {
        "id": "nyu9jD93F5ev"
      },
      "execution_count": 108,
      "outputs": []
    },
    {
      "cell_type": "code",
      "source": [
        "spark.sql(\"SELECT COUNT(*) FROM estabelecimentos_parquet WHERE LOGRADOURO IS NULL\")"
      ],
      "metadata": {
        "colab": {
          "base_uri": "https://localhost:8080/",
          "height": 67
        },
        "id": "GuxjTs0gyuP-",
        "outputId": "49adcd20-4e50-4fc5-8679-11762cad7329"
      },
      "execution_count": 109,
      "outputs": [
        {
          "output_type": "execute_result",
          "data": {
            "text/plain": [
              "+--------+\n",
              "|count(1)|\n",
              "+--------+\n",
              "|     828|\n",
              "+--------+"
            ],
            "text/html": [
              "<table border='1'>\n",
              "<tr><th>count(1)</th></tr>\n",
              "<tr><td>828</td></tr>\n",
              "</table>\n"
            ]
          },
          "metadata": {},
          "execution_count": 109
        }
      ]
    },
    {
      "cell_type": "markdown",
      "source": [
        "#### Pergunta 5: Em muitos casos, as UDFs (funções definidas pelo usuário) são uma forma muito conveniente de implementar uma lógica dentro de uma função python e chamá-la dentro de uma consulta SQL. Vamos fazer isso para computar quantos estabelecimento têm um logradouro  cujo endereço é uma AVENIDA. Crie uma função em Python `def is_avenida(logradouro):` que recebe um logradouro e decide se ele é uma avenida ou não. Dica: Use `startswith()` e fique atento ao resultado da questão anterior, pois ele pode impactar a lógica da sua função. Esteja atento a maiúsculas e minúsculas.Em seguida, use Spark SQL para executar uma consulta como `SELECT COUNT(*) FROM estabelecimentos WHERE is_avenida(LOGRADOURO) == True` para contar quantos estabelecimentos ficam localizados em uma avenida.\n",
        "- R: 52587"
      ],
      "metadata": {
        "id": "tzkUBsJmzzy4"
      }
    },
    {
      "cell_type": "code",
      "source": [
        "def is_avenida(logradouro):\n",
        "  if logradouro == '' or type(logradouro) == 'NoneType' or logradouro is None:\n",
        "    return False\n",
        "  else:\n",
        "    return logradouro.lower().startswith(\"avenida\")\n",
        "\n",
        "logradouro1 = \"Avenida 1\"\n",
        "logradouro2 = \"rua 2\"\n",
        "logradouro3 = \"\"\n",
        "print(is_avenida(logradouro1))\n",
        "print(is_avenida(logradouro2))\n",
        "print(is_avenida(logradouro3))"
      ],
      "metadata": {
        "colab": {
          "base_uri": "https://localhost:8080/"
        },
        "id": "p-DYkt7t0GDX",
        "outputId": "9a3b4ca3-cadc-46fd-916e-70f2a62a6489"
      },
      "execution_count": 100,
      "outputs": [
        {
          "output_type": "stream",
          "name": "stdout",
          "text": [
            "True\n",
            "False\n",
            "False\n"
          ]
        }
      ]
    },
    {
      "cell_type": "code",
      "source": [
        "from pyspark.sql.functions import udf\n",
        "\n",
        "isAvenidaUDF = udf(lambda z: is_avenida(z))\n",
        "spark.udf.register(\"isAvenidaUDF\", is_avenida)"
      ],
      "metadata": {
        "colab": {
          "base_uri": "https://localhost:8080/"
        },
        "id": "VHuc5Vx86fMM",
        "outputId": "f3773f76-fac0-4eae-ae87-8c5efaa97959"
      },
      "execution_count": 98,
      "outputs": [
        {
          "output_type": "execute_result",
          "data": {
            "text/plain": [
              "<function __main__.is_avenida(logradouro)>"
            ]
          },
          "metadata": {},
          "execution_count": 98
        }
      ]
    },
    {
      "cell_type": "code",
      "source": [
        "spark.sql(\"SELECT COUNT(*) FROM estabelecimentos_parquet WHERE isAvenidaUDF(LOGRADOURO) == True\")"
      ],
      "metadata": {
        "colab": {
          "base_uri": "https://localhost:8080/",
          "height": 67
        },
        "id": "vqwpuAO3_L5b",
        "outputId": "d5c47544-4848-4e5f-9c96-b119d9f235ae"
      },
      "execution_count": 111,
      "outputs": [
        {
          "output_type": "execute_result",
          "data": {
            "text/plain": [
              "+--------+\n",
              "|count(1)|\n",
              "+--------+\n",
              "|   52587|\n",
              "+--------+"
            ],
            "text/html": [
              "<table border='1'>\n",
              "<tr><th>count(1)</th></tr>\n",
              "<tr><td>52587</td></tr>\n",
              "</table>\n"
            ]
          },
          "metadata": {},
          "execution_count": 111
        }
      ]
    },
    {
      "cell_type": "markdown",
      "source": [
        "#### Pergunta 6: Quantos CEPs distintos existem entre os estabelecimentos?\n",
        "- R: 889885\n"
      ],
      "metadata": {
        "id": "YoIOeWNWDK3D"
      }
    },
    {
      "cell_type": "code",
      "source": [
        "from pyspark.sql.functions import countDistinct\n",
        "\n",
        "distinct_count_ceps= df_estabelecimentos_parquet.select(countDistinct(\"CEP\"))\n",
        "distinct_count_ceps.show()"
      ],
      "metadata": {
        "colab": {
          "base_uri": "https://localhost:8080/"
        },
        "id": "Jb6dH9FXDgsB",
        "outputId": "2c9729f6-6691-40f8-ca2c-01613c5ff9ab"
      },
      "execution_count": 112,
      "outputs": [
        {
          "output_type": "stream",
          "name": "stdout",
          "text": [
            "+-------------------+\n",
            "|count(DISTINCT CEP)|\n",
            "+-------------------+\n",
            "|             889885|\n",
            "+-------------------+\n",
            "\n"
          ]
        }
      ]
    },
    {
      "cell_type": "markdown",
      "source": [
        "#### Pergunta 7: Quantos CNAEs existem na tabela de CNAES?\n",
        "- R: 1359"
      ],
      "metadata": {
        "id": "dQyIRGlMENTT"
      }
    },
    {
      "cell_type": "code",
      "source": [
        "df_cnaes.count()"
      ],
      "metadata": {
        "colab": {
          "base_uri": "https://localhost:8080/"
        },
        "id": "E_bsrZdNDoS-",
        "outputId": "82488bf6-f0a1-4c67-877b-beac7339c19c"
      },
      "execution_count": 113,
      "outputs": [
        {
          "output_type": "execute_result",
          "data": {
            "text/plain": [
              "1359"
            ]
          },
          "metadata": {},
          "execution_count": 113
        }
      ]
    },
    {
      "cell_type": "markdown",
      "source": [
        "#### Pergunta 8: Vários CNAEs são de cultivo, como “cultivo de milho”, “cultivo de trigo” e “cultivo de arroz” Quantos estabelecimentos possuem um CNAE relacionado a cultivo? Dicas: use a operação JOIN para criar uma dataframe que tem os estabelecimentos e as descrições de seus CNAES. Crie uma UDF que verifica se a descrição do CNAE é sobre cultivo; e usar Spark SQL para escrever uma consulta como `SELECT COUNT(*) from estabelecimentos_with_cnae WHERE is_cnae_cultivo(DESCRICAO_CNAE) == True`.\n",
        "- R: 200243"
      ],
      "metadata": {
        "id": "U3FH_I8LExAY"
      }
    },
    {
      "cell_type": "code",
      "source": [
        "def is_cnae_cultivo(descricao_cnae):\n",
        "  if descricao_cnae == '' or type(descricao_cnae) == 'NoneType' or descricao_cnae is None:\n",
        "    return False\n",
        "  else:\n",
        "    return descricao_cnae.lower().startswith(\"cultivo\")\n",
        "\n",
        "cultivo1 = \"Cultivo 1\"\n",
        "cultivo2 = \"cultivo 2\"\n",
        "cultivo3 = \"\"\n",
        "print(is_cnae_cultivo(cultivo1))\n",
        "print(is_cnae_cultivo(cultivo2))\n",
        "print(is_cnae_cultivo(cultivo3))"
      ],
      "metadata": {
        "colab": {
          "base_uri": "https://localhost:8080/"
        },
        "id": "IpPCVWzkNjlR",
        "outputId": "3e411a7b-8969-442d-9c34-1b46b03fd4de"
      },
      "execution_count": 119,
      "outputs": [
        {
          "output_type": "stream",
          "name": "stdout",
          "text": [
            "True\n",
            "True\n",
            "False\n"
          ]
        }
      ]
    },
    {
      "cell_type": "code",
      "source": [
        "df_cnaes.createTempView(\"cnaes\")"
      ],
      "metadata": {
        "id": "zbh-NOYQEvFi"
      },
      "execution_count": 115,
      "outputs": []
    },
    {
      "cell_type": "code",
      "source": [
        "isCNAEUDF = udf(lambda z: is_cnae_cultivo(z))\n",
        "spark.udf.register(\"isCNAEUDF\", is_cnae_cultivo)"
      ],
      "metadata": {
        "colab": {
          "base_uri": "https://localhost:8080/"
        },
        "id": "8uDxFJ9GOdbl",
        "outputId": "bd5a051c-5eb8-4cda-f7ab-a18fcaa98157"
      },
      "execution_count": 120,
      "outputs": [
        {
          "output_type": "execute_result",
          "data": {
            "text/plain": [
              "<function __main__.is_cnae_cultivo(descricao_cnae)>"
            ]
          },
          "metadata": {},
          "execution_count": 120
        }
      ]
    },
    {
      "cell_type": "code",
      "source": [
        "spark.sql(\n",
        "\"\"\"\n",
        "  SELECT\n",
        "    COUNT(*)\n",
        "  FROM\n",
        "    estabelecimentos_parquet e\n",
        "  JOIN\n",
        "    cnaes c\n",
        "  ON\n",
        "    e.CNAE_PRINCIPAL = c.CNAE\n",
        "  WHERE\n",
        "     isCNAEUDF(c.DESCRICAO_CNAE) == True\n",
        "\"\"\"\n",
        ")"
      ],
      "metadata": {
        "colab": {
          "base_uri": "https://localhost:8080/",
          "height": 67
        },
        "id": "FJgJR65JNhTS",
        "outputId": "4e37af2d-426f-408f-dfba-b40f3a70a4cf"
      },
      "execution_count": 121,
      "outputs": [
        {
          "output_type": "execute_result",
          "data": {
            "text/plain": [
              "+--------+\n",
              "|count(1)|\n",
              "+--------+\n",
              "|  200243|\n",
              "+--------+"
            ],
            "text/html": [
              "<table border='1'>\n",
              "<tr><th>count(1)</th></tr>\n",
              "<tr><td>200243</td></tr>\n",
              "</table>\n"
            ]
          },
          "metadata": {},
          "execution_count": 121
        }
      ]
    },
    {
      "cell_type": "markdown",
      "source": [
        "#### Pergunta 9: Quais destes provedores oferecem serviços gerenciados para uso do Apache Spark?\n",
        "- R: Todas as alternativas.\n",
        "\n",
        "#### Pergunta 10: Qual dessas características se aplica à API de Dataframes do Spark, mas não à API de RDDs?\n",
        "- R: lida com dados estruturados."
      ],
      "metadata": {
        "id": "lVLlDrp_HUNI"
      }
    },
    {
      "cell_type": "markdown",
      "source": [
        "#### Pergunta 11: Quantos estabelecimentos são filiais? Consulte o dicionário dos dados e use Spark SQL.\n",
        "- R: 1093082"
      ],
      "metadata": {
        "id": "6VYtPo4lH_Cp"
      }
    },
    {
      "cell_type": "code",
      "source": [
        "spark.sql(\n",
        "\"\"\"\n",
        "  SELECT\n",
        "    COUNT(*)\n",
        "  FROM\n",
        "    estabelecimentos_parquet\n",
        "  WHERE\n",
        "    IDENTIFICADOR_MATRIZ_FILIAL == 2\n",
        "\"\"\"\n",
        ")"
      ],
      "metadata": {
        "colab": {
          "base_uri": "https://localhost:8080/",
          "height": 67
        },
        "id": "HCicfVHIHzB7",
        "outputId": "15d01ee0-8b4e-4f64-dbe3-d8a9b0491277"
      },
      "execution_count": 114,
      "outputs": [
        {
          "output_type": "execute_result",
          "data": {
            "text/plain": [
              "+--------+\n",
              "|count(1)|\n",
              "+--------+\n",
              "| 1093082|\n",
              "+--------+"
            ],
            "text/html": [
              "<table border='1'>\n",
              "<tr><th>count(1)</th></tr>\n",
              "<tr><td>1093082</td></tr>\n",
              "</table>\n"
            ]
          },
          "metadata": {},
          "execution_count": 114
        }
      ]
    },
    {
      "cell_type": "markdown",
      "source": [
        "#### Pergunta 12: Qual dessas tarefas você diria que NÃO está no escopo de engenharia de dados?\n",
        "\n",
        "- R: Criação de modelos de inteligência artificial.\n",
        "\n",
        "#### Pergunta 13: Caso você queira construir uma aplicação que lê mensagens do Twitter e utiliza um modelo de aprendizado de máquina para classificar o conteúdo dos tweets entre carregando sentimentos “positivos” e “negativos”, quais componentes do Spark você utilizaria?\n",
        "\n",
        "- R: Spark Streaming e Spark ML.\n",
        "\n",
        "#### Pergunta 14: Quais formatos o Spark consegue NÃO possuir uma API para ler de forma nativa?\n",
        "\n",
        "- R: XML.\n",
        "\n",
        "#### Pergunta 15: O Apache Spark é tudo isso, EXCETO…\n",
        "\n",
        "- R: … um sistema de arquivos distribuído."
      ],
      "metadata": {
        "id": "8KzMmIzcIUTG"
      }
    }
  ]
}