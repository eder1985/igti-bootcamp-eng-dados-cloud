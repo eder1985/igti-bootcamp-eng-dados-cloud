{
  "nbformat": 4,
  "nbformat_minor": 0,
  "metadata": {
    "colab": {
      "provenance": [],
      "authorship_tag": "ABX9TyMzhPSVXg8ZHmEF7i7fG0Wc",
      "include_colab_link": true
    },
    "kernelspec": {
      "name": "python3",
      "display_name": "Python 3"
    },
    "language_info": {
      "name": "python"
    }
  },
  "cells": [
    {
      "cell_type": "markdown",
      "metadata": {
        "id": "view-in-github",
        "colab_type": "text"
      },
      "source": [
        "<a href=\"https://colab.research.google.com/github/eder1985/igti-bootcamp-eng-dados-cloud/blob/main/modulo_2/igti_edc_mod2_desafio.ipynb\" target=\"_parent\"><img src=\"https://colab.research.google.com/assets/colab-badge.svg\" alt=\"Open In Colab\"/></a>"
      ]
    },
    {
      "cell_type": "markdown",
      "metadata": {
        "id": "iox_ufgbqDXa"
      },
      "source": [
        "<h1><center>IGTI/XP Educação/Bootcamp Engenharia de Dados Cloud - Módulo 2 - Trabalho Prático\n",
        "</center></h1>"
      ]
    },
    {
      "cell_type": "markdown",
      "metadata": {
        "id": "Dd6t0uFzuR4X"
      },
      "source": [
        "### Installing Spark"
      ]
    },
    {
      "cell_type": "markdown",
      "metadata": {
        "id": "6apGVff5h4ca"
      },
      "source": [
        "Install Dependencies:\n",
        "\n",
        "\n",
        "1.   Java 8\n",
        "2.   Apache Spark with hadoop and\n",
        "3.   Findspark (used to locate the spark in the system)\n"
      ]
    },
    {
      "cell_type": "code",
      "metadata": {
        "id": "tt7ZS1_wGgjn"
      },
      "source": [
        "!apt-get install openjdk-8-jdk-headless -qq > /dev/null\n",
        "!wget -q http://archive.apache.org/dist/spark/spark-3.1.1/spark-3.1.1-bin-hadoop3.2.tgz\n",
        "!tar xf spark-3.1.1-bin-hadoop3.2.tgz\n",
        "!pip install -q findspark"
      ],
      "execution_count": null,
      "outputs": []
    },
    {
      "cell_type": "markdown",
      "metadata": {
        "id": "C3x0ZRLxjMVr"
      },
      "source": [
        "Set Environment Variables:"
      ]
    },
    {
      "cell_type": "code",
      "metadata": {
        "id": "sdOOq4twHN1K"
      },
      "source": [
        "import os\n",
        "os.environ[\"JAVA_HOME\"] = \"/usr/lib/jvm/java-8-openjdk-amd64\"\n",
        "os.environ[\"SPARK_HOME\"] = \"/content/spark-3.1.1-bin-hadoop3.2\""
      ],
      "execution_count": null,
      "outputs": []
    },
    {
      "cell_type": "code",
      "metadata": {
        "id": "3ACYMwhgHTYz",
        "colab": {
          "base_uri": "https://localhost:8080/"
        },
        "outputId": "43684196-ebdc-4c63-dd12-d372694151b0"
      },
      "source": [
        "!ls"
      ],
      "execution_count": null,
      "outputs": [
        {
          "output_type": "stream",
          "name": "stdout",
          "text": [
            "sample_data  spark-3.1.1-bin-hadoop3.2\tspark-3.1.1-bin-hadoop3.2.tgz\n"
          ]
        }
      ]
    },
    {
      "cell_type": "code",
      "metadata": {
        "id": "KR1zLBk1998Z",
        "colab": {
          "base_uri": "https://localhost:8080/",
          "height": 222
        },
        "outputId": "65c700ac-f411-480d-9e25-ba5ef6c95327"
      },
      "source": [
        "import findspark\n",
        "findspark.init()\n",
        "from pyspark.sql import SparkSession\n",
        "spark = SparkSession.builder.master(\"local[*]\").getOrCreate()\n",
        "spark.conf.set(\"spark.sql.repl.eagerEval.enabled\", True) # Property used to format output tables better\n",
        "spark"
      ],
      "execution_count": null,
      "outputs": [
        {
          "output_type": "execute_result",
          "data": {
            "text/plain": [
              "<pyspark.sql.session.SparkSession at 0x7fcba80fa380>"
            ],
            "text/html": [
              "\n",
              "            <div>\n",
              "                <p><b>SparkSession - in-memory</b></p>\n",
              "                \n",
              "        <div>\n",
              "            <p><b>SparkContext</b></p>\n",
              "\n",
              "            <p><a href=\"http://174c26be001a:4040\">Spark UI</a></p>\n",
              "\n",
              "            <dl>\n",
              "              <dt>Version</dt>\n",
              "                <dd><code>v3.1.1</code></dd>\n",
              "              <dt>Master</dt>\n",
              "                <dd><code>local[*]</code></dd>\n",
              "              <dt>AppName</dt>\n",
              "                <dd><code>pyspark-shell</code></dd>\n",
              "            </dl>\n",
              "        </div>\n",
              "        \n",
              "            </div>\n",
              "        "
            ]
          },
          "metadata": {},
          "execution_count": 4
        }
      ]
    },
    {
      "cell_type": "markdown",
      "source": [
        "### Trabalho prático"
      ],
      "metadata": {
        "id": "qWOkpBQhSLX7"
      }
    },
    {
      "cell_type": "code",
      "source": [
        "!mkdir data\n"
      ],
      "metadata": {
        "colab": {
          "base_uri": "https://localhost:8080/"
        },
        "id": "bi8t1bZwSORJ",
        "outputId": "b2aa7a5f-968e-44a3-f785-6cdc2ef9bd29"
      },
      "execution_count": null,
      "outputs": [
        {
          "output_type": "stream",
          "name": "stdout",
          "text": [
            "mkdir: cannot create directory ‘data’: File exists\n"
          ]
        }
      ]
    },
    {
      "cell_type": "code",
      "source": [
        "!wget https://homepages.dcc.ufmg.br/~pcalais/XPE/engenharia-dados/big-data-spark/trabalho-pratico/title_basics.tsv --no-check-certificate\n",
        "!wget https://homepages.dcc.ufmg.br/~pcalais/XPE/engenharia-dados/big-data-spark/trabalho-pratico/title_ratings.tsv --no-check-certificate"
      ],
      "metadata": {
        "colab": {
          "base_uri": "https://localhost:8080/"
        },
        "id": "r3qFlou9TKjx",
        "outputId": "bf77f055-1886-4abd-cb18-3aaa5d65a13a"
      },
      "execution_count": null,
      "outputs": [
        {
          "output_type": "stream",
          "name": "stdout",
          "text": [
            "--2023-08-07 18:43:33--  https://homepages.dcc.ufmg.br/~pcalais/XPE/engenharia-dados/big-data-spark/trabalho-pratico/title_basics.tsv\n",
            "Resolving homepages.dcc.ufmg.br (homepages.dcc.ufmg.br)... 150.164.0.136\n",
            "Connecting to homepages.dcc.ufmg.br (homepages.dcc.ufmg.br)|150.164.0.136|:443... connected.\n",
            "WARNING: cannot verify homepages.dcc.ufmg.br's certificate, issued by ‘CN=GlobalSign RSA OV SSL CA 2018,O=GlobalSign nv-sa,C=BE’:\n",
            "  Unable to locally verify the issuer's authority.\n",
            "HTTP request sent, awaiting response... 200 OK\n",
            "Length: 701504751 (669M) [text/tab-separated-values]\n",
            "Saving to: ‘title_basics.tsv’\n",
            "\n",
            "title_basics.tsv    100%[===================>] 669.01M  17.3MB/s    in 36s     \n",
            "\n",
            "2023-08-07 18:44:10 (18.3 MB/s) - ‘title_basics.tsv’ saved [701504751/701504751]\n",
            "\n",
            "--2023-08-07 18:44:10--  https://homepages.dcc.ufmg.br/~pcalais/XPE/engenharia-dados/big-data-spark/trabalho-pratico/title_ratings.tsv\n",
            "Resolving homepages.dcc.ufmg.br (homepages.dcc.ufmg.br)... 150.164.0.136\n",
            "Connecting to homepages.dcc.ufmg.br (homepages.dcc.ufmg.br)|150.164.0.136|:443... connected.\n",
            "WARNING: cannot verify homepages.dcc.ufmg.br's certificate, issued by ‘CN=GlobalSign RSA OV SSL CA 2018,O=GlobalSign nv-sa,C=BE’:\n",
            "  Unable to locally verify the issuer's authority.\n",
            "HTTP request sent, awaiting response... 200 OK\n",
            "Length: 20330182 (19M) [text/tab-separated-values]\n",
            "Saving to: ‘title_ratings.tsv’\n",
            "\n",
            "title_ratings.tsv   100%[===================>]  19.39M  10.8MB/s    in 1.8s    \n",
            "\n",
            "2023-08-07 18:44:14 (10.8 MB/s) - ‘title_ratings.tsv’ saved [20330182/20330182]\n",
            "\n"
          ]
        }
      ]
    },
    {
      "cell_type": "code",
      "source": [
        "!mv title_basics.tsv title_ratings.tsv data/"
      ],
      "metadata": {
        "id": "WsLv1zI9USyQ"
      },
      "execution_count": null,
      "outputs": []
    },
    {
      "cell_type": "code",
      "source": [
        "df_titles = spark.read.csv('data/title_basics.tsv', header=True, inferSchema=True, sep='\\t')"
      ],
      "metadata": {
        "id": "udg6O6dnTz2z"
      },
      "execution_count": null,
      "outputs": []
    },
    {
      "cell_type": "code",
      "source": [
        "df_titles.show()"
      ],
      "metadata": {
        "colab": {
          "base_uri": "https://localhost:8080/"
        },
        "id": "DEeD7j0EUdWO",
        "outputId": "be5ddfe6-45aa-48c9-a2cd-d53c6e9b0265"
      },
      "execution_count": null,
      "outputs": [
        {
          "output_type": "stream",
          "name": "stdout",
          "text": [
            "+---------+---------+--------------------+--------------------+-------+---------+-------+--------------+--------------------+\n",
            "|   tconst|titleType|        primaryTitle|       originalTitle|isAdult|startYear|endYear|runtimeMinutes|              genres|\n",
            "+---------+---------+--------------------+--------------------+-------+---------+-------+--------------+--------------------+\n",
            "|tt0000001|    short|          Carmencita|          Carmencita|      0|     1894|     \\N|             1|   Documentary,Short|\n",
            "|tt0000002|    short|Le clown et ses c...|Le clown et ses c...|      0|     1892|     \\N|             5|     Animation,Short|\n",
            "|tt0000003|    short|      Pauvre Pierrot|      Pauvre Pierrot|      0|     1892|     \\N|             4|Animation,Comedy,...|\n",
            "|tt0000004|    short|         Un bon bock|         Un bon bock|      0|     1892|     \\N|            12|     Animation,Short|\n",
            "|tt0000005|    short|    Blacksmith Scene|    Blacksmith Scene|      0|     1893|     \\N|             1|        Comedy,Short|\n",
            "|tt0000006|    short|   Chinese Opium Den|   Chinese Opium Den|      0|     1894|     \\N|             1|               Short|\n",
            "|tt0000007|    short|Corbett and Court...|Corbett and Court...|      0|     1894|     \\N|             1|         Short,Sport|\n",
            "|tt0000008|    short|Edison Kinetoscop...|Edison Kinetoscop...|      0|     1894|     \\N|             1|   Documentary,Short|\n",
            "|tt0000009|    short|          Miss Jerry|          Miss Jerry|      0|     1894|     \\N|            40|       Romance,Short|\n",
            "|tt0000010|    short| Leaving the Factory|La sortie de l'us...|      0|     1895|     \\N|             1|   Documentary,Short|\n",
            "|tt0000011|    short|Akrobatisches Pot...|Akrobatisches Pot...|      0|     1895|     \\N|             1|   Documentary,Short|\n",
            "|tt0000012|    short|The Arrival of a ...|L'arrivée d'un tr...|      0|     1896|     \\N|             1|   Documentary,Short|\n",
            "|tt0000013|    short|The Photographica...|Le débarquement d...|      0|     1895|     \\N|             1|   Documentary,Short|\n",
            "|tt0000014|    short| The Waterer Watered|   L'arroseur arrosé|      0|     1895|     \\N|             1|        Comedy,Short|\n",
            "|tt0000015|    short| Autour d'une cabine| Autour d'une cabine|      0|     1894|     \\N|             2|     Animation,Short|\n",
            "|tt0000016|    short|Boat Leaving the ...|Barque sortant du...|      0|     1895|     \\N|             1|   Documentary,Short|\n",
            "|tt0000017|    short|Italienischer Bau...|Italienischer Bau...|      0|     1895|     \\N|             1|   Documentary,Short|\n",
            "|tt0000018|    short|Das boxende Känguruh|Das boxende Känguruh|      0|     1895|     \\N|             1|               Short|\n",
            "|tt0000019|    short|    The Clown Barber|    The Clown Barber|      0|     1898|     \\N|            \\N|        Comedy,Short|\n",
            "|tt0000020|    short|      The Derby 1895|      The Derby 1895|      0|     1895|     \\N|             1|Documentary,Short...|\n",
            "+---------+---------+--------------------+--------------------+-------+---------+-------+--------------+--------------------+\n",
            "only showing top 20 rows\n",
            "\n"
          ]
        }
      ]
    },
    {
      "cell_type": "code",
      "source": [
        "df_titles.count()"
      ],
      "metadata": {
        "colab": {
          "base_uri": "https://localhost:8080/"
        },
        "id": "fMMsdYpJUg5g",
        "outputId": "e6ba071e-aba0-4338-b888-cee656905ed3"
      },
      "execution_count": null,
      "outputs": [
        {
          "output_type": "execute_result",
          "data": {
            "text/plain": [
              "8203690"
            ]
          },
          "metadata": {},
          "execution_count": 13
        }
      ]
    },
    {
      "cell_type": "code",
      "source": [
        "df_titles.printSchema()"
      ],
      "metadata": {
        "colab": {
          "base_uri": "https://localhost:8080/"
        },
        "id": "FSfUzNilczYe",
        "outputId": "79c69bc4-d3ed-4966-fd3d-58860ace22c8"
      },
      "execution_count": null,
      "outputs": [
        {
          "output_type": "stream",
          "name": "stdout",
          "text": [
            "root\n",
            " |-- tconst: string (nullable = true)\n",
            " |-- titleType: string (nullable = true)\n",
            " |-- primaryTitle: string (nullable = true)\n",
            " |-- originalTitle: string (nullable = true)\n",
            " |-- isAdult: string (nullable = true)\n",
            " |-- startYear: string (nullable = true)\n",
            " |-- endYear: string (nullable = true)\n",
            " |-- runtimeMinutes: string (nullable = true)\n",
            " |-- genres: string (nullable = true)\n",
            "\n"
          ]
        }
      ]
    },
    {
      "cell_type": "code",
      "source": [
        "df_ratings = spark.read.csv('data/title_ratings.tsv', header=True, inferSchema=True, sep='\\t')"
      ],
      "metadata": {
        "id": "Yr0LzY3HUlyN"
      },
      "execution_count": null,
      "outputs": []
    },
    {
      "cell_type": "code",
      "source": [
        "df_ratings.show()"
      ],
      "metadata": {
        "colab": {
          "base_uri": "https://localhost:8080/"
        },
        "id": "zR2LkXUNUqXx",
        "outputId": "dea8fd25-5de2-48c5-c6f4-0f4e1ae73f35"
      },
      "execution_count": null,
      "outputs": [
        {
          "output_type": "stream",
          "name": "stdout",
          "text": [
            "+---------+-------------+--------+\n",
            "|   tconst|averageRating|numVotes|\n",
            "+---------+-------------+--------+\n",
            "|tt0000001|          5.7|    1809|\n",
            "|tt0000002|          6.0|     233|\n",
            "|tt0000003|          6.5|    1560|\n",
            "|tt0000004|          6.1|     152|\n",
            "|tt0000005|          6.2|    2383|\n",
            "|tt0000006|          5.1|     157|\n",
            "|tt0000007|          5.4|     746|\n",
            "|tt0000008|          5.5|    1965|\n",
            "|tt0000009|          5.8|     189|\n",
            "|tt0000010|          6.9|    6530|\n",
            "|tt0000011|          5.2|     323|\n",
            "|tt0000012|          7.4|   11188|\n",
            "|tt0000013|          5.8|    1726|\n",
            "|tt0000014|          7.1|    5023|\n",
            "|tt0000015|          6.2|     947|\n",
            "|tt0000016|          5.9|    1325|\n",
            "|tt0000017|          4.6|     292|\n",
            "|tt0000018|          5.3|     537|\n",
            "|tt0000019|          5.3|      28|\n",
            "|tt0000020|          5.0|     315|\n",
            "+---------+-------------+--------+\n",
            "only showing top 20 rows\n",
            "\n"
          ]
        }
      ]
    },
    {
      "cell_type": "code",
      "source": [
        "df_ratings.count()"
      ],
      "metadata": {
        "colab": {
          "base_uri": "https://localhost:8080/"
        },
        "id": "0gdfyxVhUstR",
        "outputId": "f226886d-7bfe-4cd5-ce38-f3d40673577f"
      },
      "execution_count": null,
      "outputs": [
        {
          "output_type": "execute_result",
          "data": {
            "text/plain": [
              "1182639"
            ]
          },
          "metadata": {},
          "execution_count": 16
        }
      ]
    },
    {
      "cell_type": "code",
      "source": [
        "df_ratings.printSchema()"
      ],
      "metadata": {
        "colab": {
          "base_uri": "https://localhost:8080/"
        },
        "id": "9cvO7y8oc2a1",
        "outputId": "05978714-70a5-4803-8f62-a6cee3aad127"
      },
      "execution_count": null,
      "outputs": [
        {
          "output_type": "stream",
          "name": "stdout",
          "text": [
            "root\n",
            " |-- tconst: string (nullable = true)\n",
            " |-- averageRating: double (nullable = true)\n",
            " |-- numVotes: integer (nullable = true)\n",
            "\n"
          ]
        }
      ]
    },
    {
      "cell_type": "code",
      "source": [
        "df_joined_data = df_titles.join(df_ratings, df_titles.tconst == df_ratings.tconst, \"left\")"
      ],
      "metadata": {
        "id": "N4AiRmbJUuce"
      },
      "execution_count": null,
      "outputs": []
    },
    {
      "cell_type": "code",
      "source": [
        "df_joined_data.show()"
      ],
      "metadata": {
        "colab": {
          "base_uri": "https://localhost:8080/"
        },
        "id": "83l6c0_pdjY1",
        "outputId": "9b12c456-9b5f-4d2c-84c5-6b3a1d2dff7c"
      },
      "execution_count": null,
      "outputs": [
        {
          "output_type": "stream",
          "name": "stdout",
          "text": [
            "+---------+---------+--------------------+--------------------+-------+---------+-------+--------------+--------------------+---------+-------------+--------+\n",
            "|   tconst|titleType|        primaryTitle|       originalTitle|isAdult|startYear|endYear|runtimeMinutes|              genres|   tconst|averageRating|numVotes|\n",
            "+---------+---------+--------------------+--------------------+-------+---------+-------+--------------+--------------------+---------+-------------+--------+\n",
            "|tt0000658|    short|The Puppet's Nigh...|Le cauchemar de F...|      0|     1908|     \\N|             2|     Animation,Short|tt0000658|          6.5|     212|\n",
            "|tt0000839|    short|  The Curse of Money|  The Curse of Money|      0|     1909|     \\N|            \\N|         Drama,Short|     null|         null|    null|\n",
            "|tt0001170|    short|A Cowboy's Vindic...|A Cowboy's Vindic...|      0|     1910|     \\N|            \\N|       Short,Western|     null|         null|    null|\n",
            "|tt0001581|    short|    A Devoted Friend|    A Devoted Friend|      0|     1911|     \\N|            19|               Short|     null|         null|    null|\n",
            "|tt0001664|    short|        Her Two Sons|        Her Two Sons|      0|     1911|     \\N|            \\N| Drama,Romance,Short|     null|         null|    null|\n",
            "|tt0001732|    short|The Lighthouse Ke...|The Lighthouse Ke...|      0|     1911|     \\N|            \\N|         Drama,Short|tt0001732|          7.1|      15|\n",
            "|tt0001887|    short|     The Skating Bug|     The Skating Bug|      0|     1911|     \\N|            \\N|        Comedy,Short|     null|         null|    null|\n",
            "|tt0002253|    short|          Home Folks|          Home Folks|      0|     1912|     \\N|            17|         Drama,Short|tt0002253|          4.0|      13|\n",
            "|tt0002347|    short|Le martyre de Sai...|Le martyre de Sai...|      0|     1912|     \\N|            12|         Drama,Short|     null|         null|    null|\n",
            "|tt0002473|    short|    The Sands of Dee|    The Sands of Dee|      0|     1912|     \\N|            17|       Romance,Short|tt0002473|          6.5|      77|\n",
            "|tt0002588|    movie|Zigomar contre Ni...|Zigomar contre Ni...|      0|     1912|     \\N|            48|      Crime,Thriller|tt0002588|          6.0|      32|\n",
            "|tt0002591|    movie|             Zu spät|             Zu spät|      0|     1913|     \\N|            \\N|                  \\N|     null|         null|    null|\n",
            "|tt0002667|    short|The Battle for Fr...|The Battle for Fr...|      0|     1913|     \\N|            \\N|     Adventure,Short|     null|         null|    null|\n",
            "|tt0003043|    short|  Knights and Ladies|  Knights and Ladies|      0|     1913|     \\N|            \\N|Comedy,Romance,Short|     null|         null|    null|\n",
            "|tt0003180|    short|       Mutt and Jeff|       Mutt and Jeff|      0|     1913|     \\N|            \\N|     Animation,Short|     null|         null|    null|\n",
            "|tt0003644|    short|     The Aviator Spy|His Country's Honour|      0|     1914|     \\N|            \\N|      Short,Thriller|     null|         null|    null|\n",
            "|tt0003689|    movie|          Born Again|          Born Again|      0|     1914|     \\N|            \\N|               Drama|     null|         null|    null|\n",
            "|tt0003776|    short|The City of Darkness|The City of Darkness|      0|     1914|     \\N|            \\N|         Drama,Short|     null|         null|    null|\n",
            "|tt0003931|    short|The Fatal Black Bean|The Fatal Black Bean|      0|     1915|     \\N|            \\N|         Drama,Short|     null|         null|    null|\n",
            "|tt0004091|    short|His Favorite Pastime|His Favorite Pastime|      0|     1914|     \\N|            16|        Comedy,Short|tt0004091|          5.1|    1067|\n",
            "+---------+---------+--------------------+--------------------+-------+---------+-------+--------------+--------------------+---------+-------------+--------+\n",
            "only showing top 20 rows\n",
            "\n"
          ]
        }
      ]
    },
    {
      "cell_type": "code",
      "source": [
        "df_joined_data.count()"
      ],
      "metadata": {
        "colab": {
          "base_uri": "https://localhost:8080/"
        },
        "id": "oign-XEbdmVt",
        "outputId": "c587baaf-4ef1-4e4e-888f-d6b4a0ccad68"
      },
      "execution_count": null,
      "outputs": [
        {
          "output_type": "execute_result",
          "data": {
            "text/plain": [
              "8203690"
            ]
          },
          "metadata": {},
          "execution_count": 22
        }
      ]
    },
    {
      "cell_type": "markdown",
      "source": [
        "#### Questões teóricas\n",
        "\n",
        "Questões teóricas\n",
        "\n",
        "- Qual é a característica do Apache Spark em relação ao tratamento das computações intermediárias que faz com que ele seja mais rápido do que o Hadoop MapReduce?\n",
        "  - R: Armazenamento dos resultados intermediários em memória.\n",
        "\n",
        "- Qual a principal diferença entre as transformações narrow e wide?\n",
        "  - R: As transformações narrow não realizam shuffle (movimentação) de dados, enquanto as transformações wide realizam.\n",
        "\n",
        "- Qual dos blocos de código abaixo realiza o empilhamento de dois DataFrames df1 e df2?\n",
        "  - R: df1.union(df2)"
      ],
      "metadata": {
        "id": "Efpg6LyVfGZi"
      }
    },
    {
      "cell_type": "markdown",
      "source": [
        "#### Questões práticas"
      ],
      "metadata": {
        "id": "wArwKcMTfeom"
      }
    },
    {
      "cell_type": "code",
      "source": [
        "from pyspark.sql.functions import col, countDistinct"
      ],
      "metadata": {
        "id": "dAoHbdczfbvw"
      },
      "execution_count": null,
      "outputs": []
    },
    {
      "cell_type": "code",
      "source": [
        "df_joined_data.select(\"titleType\").distinct().show()"
      ],
      "metadata": {
        "colab": {
          "base_uri": "https://localhost:8080/"
        },
        "id": "ud2Y3Dxzk8gP",
        "outputId": "de29a08d-08a9-46f3-9d8d-056a3248aad4"
      },
      "execution_count": null,
      "outputs": [
        {
          "output_type": "stream",
          "name": "stdout",
          "text": [
            "+------------+\n",
            "|   titleType|\n",
            "+------------+\n",
            "|    tvSeries|\n",
            "|tvMiniSeries|\n",
            "|     tvMovie|\n",
            "|     tvPilot|\n",
            "|   tvEpisode|\n",
            "|       movie|\n",
            "|   tvSpecial|\n",
            "|       video|\n",
            "|   videoGame|\n",
            "|     tvShort|\n",
            "|       short|\n",
            "| radioSeries|\n",
            "|radioEpisode|\n",
            "+------------+\n",
            "\n"
          ]
        }
      ]
    },
    {
      "cell_type": "markdown",
      "source": [
        "- Quantos filmes (incluindo os da televisão) foram lançados no ano de 2015?\n",
        "  - R: 19987\n"
      ],
      "metadata": {
        "id": "mZnSsgDpj2BW"
      }
    },
    {
      "cell_type": "code",
      "source": [
        "df_titles.where(\n",
        "    ((col(\"titleType\") == \"tvMovie\") | (col(\"titleType\") == \"movie\")) &\n",
        "    (col(\"startYear\") == 2015)\n",
        "    ).count()\n"
      ],
      "metadata": {
        "colab": {
          "base_uri": "https://localhost:8080/"
        },
        "id": "jx5fe-IwkbCa",
        "outputId": "dec3c4fe-0347-409f-b867-ee1f397e5fab"
      },
      "execution_count": null,
      "outputs": [
        {
          "output_type": "execute_result",
          "data": {
            "text/plain": [
              "19987"
            ]
          },
          "metadata": {},
          "execution_count": 104
        }
      ]
    },
    {
      "cell_type": "markdown",
      "source": [
        "- Qual o gênero de títulos mais frequente?\n",
        "  - R: *Drama*\n"
      ],
      "metadata": {
        "id": "8552Vptvkq1C"
      }
    },
    {
      "cell_type": "code",
      "source": [
        "from operator import add\n",
        "from pyspark.sql import functions as f\n",
        "\n",
        "\n",
        "filtered_valid_genres = df_joined_data \\\n",
        "                    .where(col(\"genres\") != str(\"\\\\N\"))"
      ],
      "metadata": {
        "id": "-jvgLK6Imxtj"
      },
      "execution_count": null,
      "outputs": []
    },
    {
      "cell_type": "code",
      "source": [
        "exploded_genres = filtered_valid_genres.select(\n",
        "        f.split(\"genres\", \",\").alias(\"genres\"), \\\n",
        "        f.posexplode(f.split(\"genres\", \",\")).alias(\"pos\", \"genre\"))"
      ],
      "metadata": {
        "id": "yvp8X2Q7wRsW"
      },
      "execution_count": null,
      "outputs": []
    },
    {
      "cell_type": "code",
      "source": [
        "exploded_genres.show()"
      ],
      "metadata": {
        "colab": {
          "base_uri": "https://localhost:8080/"
        },
        "id": "VRKk_40cwbd8",
        "outputId": "2e143c2d-f7af-4d15-ea34-d37f082812cc"
      },
      "execution_count": null,
      "outputs": [
        {
          "output_type": "stream",
          "name": "stdout",
          "text": [
            "+--------------------+---+---------+\n",
            "|              genres|pos|    genre|\n",
            "+--------------------+---+---------+\n",
            "|  [Animation, Short]|  0|Animation|\n",
            "|  [Animation, Short]|  1|    Short|\n",
            "|      [Drama, Short]|  0|    Drama|\n",
            "|      [Drama, Short]|  1|    Short|\n",
            "|    [Short, Western]|  0|    Short|\n",
            "|    [Short, Western]|  1|  Western|\n",
            "|             [Short]|  0|    Short|\n",
            "|[Drama, Romance, ...|  0|    Drama|\n",
            "|[Drama, Romance, ...|  1|  Romance|\n",
            "|[Drama, Romance, ...|  2|    Short|\n",
            "|      [Drama, Short]|  0|    Drama|\n",
            "|      [Drama, Short]|  1|    Short|\n",
            "|     [Comedy, Short]|  0|   Comedy|\n",
            "|     [Comedy, Short]|  1|    Short|\n",
            "|      [Drama, Short]|  0|    Drama|\n",
            "|      [Drama, Short]|  1|    Short|\n",
            "|      [Drama, Short]|  0|    Drama|\n",
            "|      [Drama, Short]|  1|    Short|\n",
            "|    [Romance, Short]|  0|  Romance|\n",
            "|    [Romance, Short]|  1|    Short|\n",
            "+--------------------+---+---------+\n",
            "only showing top 20 rows\n",
            "\n"
          ]
        }
      ]
    },
    {
      "cell_type": "code",
      "source": [
        "from pyspark.sql.functions import desc\n",
        "\n",
        "exploded_genres.groupBy(\"genre\").count().sort(desc(\"count\")).show(1)"
      ],
      "metadata": {
        "colab": {
          "base_uri": "https://localhost:8080/"
        },
        "id": "oxpRGZZAwde4",
        "outputId": "250d6abb-6517-4505-c544-ad29781b8f04"
      },
      "execution_count": null,
      "outputs": [
        {
          "output_type": "stream",
          "name": "stdout",
          "text": [
            "+-----+-------+\n",
            "|genre|  count|\n",
            "+-----+-------+\n",
            "|Drama|2247995|\n",
            "+-----+-------+\n",
            "only showing top 1 row\n",
            "\n"
          ]
        }
      ]
    },
    {
      "cell_type": "markdown",
      "source": [
        "- Qual o gênero com a melhor nota média de títulos?\n",
        "  - R: *History*"
      ],
      "metadata": {
        "id": "51hqO6NNIDDD"
      }
    },
    {
      "cell_type": "code",
      "source": [
        "exploded_genres_with_averageRating = filtered_valid_genres.select( \\\n",
        "        \"averageRating\", \\\n",
        "        f.split(\"genres\", \",\").alias(\"genres\"), \\\n",
        "        f.posexplode(f.split(\"genres\", \",\")).alias(\"pos\", \"genre\"))\n",
        "\n",
        "exploded_genres_with_averageRating \\\n",
        "        .groupBy(\"genre\") \\\n",
        "        .avg(\"averageRating\") \\\n",
        "        .sort(desc(\"avg(averageRating)\")).show(1)"
      ],
      "metadata": {
        "colab": {
          "base_uri": "https://localhost:8080/"
        },
        "id": "h2dlKwXjILa4",
        "outputId": "66bd2380-9dc2-46f8-f6a5-78bafd4e853f"
      },
      "execution_count": null,
      "outputs": [
        {
          "output_type": "stream",
          "name": "stdout",
          "text": [
            "+-------+------------------+\n",
            "|  genre|avg(averageRating)|\n",
            "+-------+------------------+\n",
            "|History| 7.353780102645086|\n",
            "+-------+------------------+\n",
            "only showing top 1 row\n",
            "\n"
          ]
        }
      ]
    },
    {
      "cell_type": "markdown",
      "source": [
        "- Qual o vídeo game do gênero aventura mais bem avaliado em 2020?\n",
        "  - R: *Half-Life: Alyx*"
      ],
      "metadata": {
        "id": "FZ1-afoYL591"
      }
    },
    {
      "cell_type": "code",
      "source": [
        "df_joined_data \\\n",
        "    .where((col(\"titleType\") == \"videoGame\")  & (col(\"startYear\") == 2020)) \\\n",
        "    .sort(desc(\"averageRating\")).show(1)"
      ],
      "metadata": {
        "colab": {
          "base_uri": "https://localhost:8080/"
        },
        "id": "1yZw-BOqL61l",
        "outputId": "876b7d71-ff0d-49eb-8766-e3dbef0b1d14"
      },
      "execution_count": null,
      "outputs": [
        {
          "output_type": "stream",
          "name": "stdout",
          "text": [
            "+----------+---------+---------------+---------------+-------+---------+-------+--------------+--------------------+----------+-------------+--------+\n",
            "|    tconst|titleType|   primaryTitle|  originalTitle|isAdult|startYear|endYear|runtimeMinutes|              genres|    tconst|averageRating|numVotes|\n",
            "+----------+---------+---------------+---------------+-------+---------+-------+--------------+--------------------+----------+-------------+--------+\n",
            "|tt11321196|videoGame|Half-Life: Alyx|Half-Life: Alyx|      0|     2020|     \\N|            \\N|Action,Adventure,...|tt11321196|          9.5|     506|\n",
            "+----------+---------+---------------+---------------+-------+---------+-------+--------------+--------------------+----------+-------------+--------+\n",
            "only showing top 1 row\n",
            "\n"
          ]
        }
      ]
    },
    {
      "cell_type": "markdown",
      "source": [
        "- Quantos títulos de filmes diferentes existem?\n",
        "  - R: 3931670"
      ],
      "metadata": {
        "id": "gsV02iuaRrl0"
      }
    },
    {
      "cell_type": "code",
      "source": [
        "df_titles.select('primaryTitle').distinct().count()"
      ],
      "metadata": {
        "colab": {
          "base_uri": "https://localhost:8080/"
        },
        "id": "olnvmMmQNLxc",
        "outputId": "32a480f5-3e39-486d-d5f5-b1c5c8d37535"
      },
      "execution_count": null,
      "outputs": [
        {
          "output_type": "execute_result",
          "data": {
            "text/plain": [
              "3931670"
            ]
          },
          "metadata": {},
          "execution_count": 102
        }
      ]
    },
    {
      "cell_type": "markdown",
      "source": [
        "- Qual a duração média dos filmes com conteúdo adulto?\n",
        "  - R: 92.79"
      ],
      "metadata": {
        "id": "OGde30lESFUA"
      }
    },
    {
      "cell_type": "code",
      "source": [
        "df_titles.filter( \\\n",
        "    ((col(\"titleType\") == \"tvMovie\") | (col(\"titleType\") == \"movie\")) & \\\n",
        "    (col(\"genres\").contains(\"Adult\")) \\\n",
        "    ).select(\"runtimeMinutes\") \\\n",
        "    .describe()"
      ],
      "metadata": {
        "colab": {
          "base_uri": "https://localhost:8080/",
          "height": 159
        },
        "id": "-QRksiV_R4dC",
        "outputId": "41acc341-aaf5-4725-fbff-25ab43562c3c"
      },
      "execution_count": null,
      "outputs": [
        {
          "output_type": "execute_result",
          "data": {
            "text/plain": [
              "+-------+-----------------+\n",
              "|summary|   runtimeMinutes|\n",
              "+-------+-----------------+\n",
              "|  count|             8408|\n",
              "|   mean|78.36592888243831|\n",
              "| stddev|21.07927559127097|\n",
              "|    min|              100|\n",
              "|    max|               \\N|\n",
              "+-------+-----------------+"
            ],
            "text/html": [
              "<table border='1'>\n",
              "<tr><th>summary</th><th>runtimeMinutes</th></tr>\n",
              "<tr><td>count</td><td>8408</td></tr>\n",
              "<tr><td>mean</td><td>78.36592888243831</td></tr>\n",
              "<tr><td>stddev</td><td>21.07927559127097</td></tr>\n",
              "<tr><td>min</td><td>100</td></tr>\n",
              "<tr><td>max</td><td>\\N</td></tr>\n",
              "</table>\n"
            ]
          },
          "metadata": {},
          "execution_count": 108
        }
      ]
    },
    {
      "cell_type": "markdown",
      "source": [
        "- Quantos filmes têm o título atual (“primary”) diferente do título original?\n",
        "  - R: 125056"
      ],
      "metadata": {
        "id": "R-AOCHtQVxty"
      }
    },
    {
      "cell_type": "code",
      "source": [
        "df_titles.filter \\\n",
        "    ((col(\"primaryTitle\") != col(\"originalTitle\"))) \\\n",
        "    .count()"
      ],
      "metadata": {
        "colab": {
          "base_uri": "https://localhost:8080/"
        },
        "id": "lKOZF0JOUpXu",
        "outputId": "41dd9386-2df8-4809-a324-78d309242815"
      },
      "execution_count": null,
      "outputs": [
        {
          "output_type": "execute_result",
          "data": {
            "text/plain": [
              "125056"
            ]
          },
          "metadata": {},
          "execution_count": 110
        }
      ]
    },
    {
      "cell_type": "markdown",
      "source": [
        "- Qual o filme que tem o nome mais longo?\n",
        "  - R: tt12985206.\n"
      ],
      "metadata": {
        "id": "e9F3ZO-4V88D"
      }
    },
    {
      "cell_type": "code",
      "source": [
        "from pyspark.sql.functions import col, length\n",
        "\n",
        "df_titles.orderBy(length(col(\"primaryTitle\")).desc()).show(1)"
      ],
      "metadata": {
        "colab": {
          "base_uri": "https://localhost:8080/"
        },
        "id": "CShvY9ybVty8",
        "outputId": "7dee0077-57c9-474d-e4e8-481d1ae3bdc5"
      },
      "execution_count": null,
      "outputs": [
        {
          "output_type": "stream",
          "name": "stdout",
          "text": [
            "+----------+---------+--------------------+--------------------+-------+---------+-------+--------------+------+\n",
            "|    tconst|titleType|        primaryTitle|       originalTitle|isAdult|startYear|endYear|runtimeMinutes|genres|\n",
            "+----------+---------+--------------------+--------------------+-------+---------+-------+--------------+------+\n",
            "|tt12985206|    video|Otoko wa chi _ ko...|Otoko wa chi _ ko...|      1|     2020|     \\N|            99| Adult|\n",
            "+----------+---------+--------------------+--------------------+-------+---------+-------+--------------+------+\n",
            "only showing top 1 row\n",
            "\n"
          ]
        }
      ]
    },
    {
      "cell_type": "markdown",
      "source": [
        "- Qual filme tem a maior quantidade de votos?\n",
        "  - R: tt0111161"
      ],
      "metadata": {
        "id": "l_lsNQgaWjP6"
      }
    },
    {
      "cell_type": "code",
      "source": [
        "df_ratings.orderBy(col(\"numVotes\").desc()).show(1)"
      ],
      "metadata": {
        "colab": {
          "base_uri": "https://localhost:8080/"
        },
        "id": "0GBRvLjCWEqX",
        "outputId": "8d237355-c8f9-437a-c1b3-39694321ee10"
      },
      "execution_count": null,
      "outputs": [
        {
          "output_type": "stream",
          "name": "stdout",
          "text": [
            "+---------+-------------+--------+\n",
            "|   tconst|averageRating|numVotes|\n",
            "+---------+-------------+--------+\n",
            "|tt0111161|          9.3| 2449517|\n",
            "+---------+-------------+--------+\n",
            "only showing top 1 row\n",
            "\n"
          ]
        }
      ]
    },
    {
      "cell_type": "markdown",
      "source": [
        "- Qual é a menor nota média de um filme?\n",
        "  - R: 1.0"
      ],
      "metadata": {
        "id": "9ZnN2tnVXzgV"
      }
    },
    {
      "cell_type": "code",
      "source": [
        "df_ratings.select(\"averageRating\").describe()"
      ],
      "metadata": {
        "colab": {
          "base_uri": "https://localhost:8080/",
          "height": 159
        },
        "id": "6in-oIwfXIWP",
        "outputId": "5a804b76-0765-4110-8929-13679bf9ef6a"
      },
      "execution_count": null,
      "outputs": [
        {
          "output_type": "execute_result",
          "data": {
            "text/plain": [
              "+-------+------------------+\n",
              "|summary|     averageRating|\n",
              "+-------+------------------+\n",
              "|  count|           1182639|\n",
              "|   mean| 6.917028357766265|\n",
              "| stddev|1.3974964575775946|\n",
              "|    min|               1.0|\n",
              "|    max|              10.0|\n",
              "+-------+------------------+"
            ],
            "text/html": [
              "<table border='1'>\n",
              "<tr><th>summary</th><th>averageRating</th></tr>\n",
              "<tr><td>count</td><td>1182639</td></tr>\n",
              "<tr><td>mean</td><td>6.917028357766265</td></tr>\n",
              "<tr><td>stddev</td><td>1.3974964575775946</td></tr>\n",
              "<tr><td>min</td><td>1.0</td></tr>\n",
              "<tr><td>max</td><td>10.0</td></tr>\n",
              "</table>\n"
            ]
          },
          "metadata": {},
          "execution_count": 119
        }
      ]
    }
  ]
}